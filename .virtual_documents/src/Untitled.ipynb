import os
import findspark
findspark.init()


from pyspark.sql import SparkSession
from pyspark.sql.functions import from_json, col, udf
from pyspark.sql.types import StructType, StructField, StringType, IntegerType
import json
# spark.sql.repl.eagerEval.enabled: Property used to format output tables better

spark = (
    SparkSession
    .builder
    .appName("cg-pyspark-assignment")
    .master("local")
    .config("spark.sql.repl.eagerEval.enabled", True)
    .getOrCreate()
  )
spark


src_path = os.getcwd()
print(src_path)


test_path = src_path.replace('src', 'test')
test_path


test_file = test_path + '/test.json'
test_file


simple_df = spark.read.json(test_file)
simple_df


test_file2 = test_path + '/txt_json.txt'
test_file2


txt_jsondf = spark.read.option('inferSchema', 'True').option('header', 'True').option('delimiter', '|').csv(test_file2)
txt_jsondf.show(100, 0)
txt_jsondf.printSchema()


# Define the schema of the JSON string.
schema = StructType([
  StructField("Sub1", StringType()), 
  StructField("Sub2", IntegerType())
])


test2DF = txt_jsondf.withColumn('from_json', from_json(col('JSON1'), schema))
test2DF.show(100, 0)
test2DF.printSchema()


# Make a separate column from one of the struct fields.
test3DF = test2DF.withColumn("JSON1_Sub1", col("from_json.Sub1")).withColumn("JSON1_Sub2", col("from_json.Sub2"))
test3DF.show(100, 0)
test3DF.printSchema()


test_file3 = test_path + '/array_json.txt'
test_file3


array_jsondf = spark.read.options(header='True', inferSchema='True', delimiter='|').csv(test_file3)
array_jsondf.show(100, 0)
array_jsondf.printSchema()


array_json_schema = StructType([
    StructField('Sub1', StringType()),
    StructField('Sub2', IntegerType())
])


def parse_json(array_str):
    listofdict = json.loads(array_str)
    for i in listofdict:
        yield (i['Sub1'], i['Sub2'])

parse_json_udf = udf(parse_json, array_json_schema)


array_jsondf2 = array_jsondf.withColumn('parse_json', parse_json_udf(col('JSON1')))
print(type(array_jsondf2))
array_jsondf2.show(10,0)


x = """{
    "Name": "Jennifer Smith",
    "Contact Number": 7867567898,
    "Email": "jen123@gmail.com",
    "Hobbies":["Reading", "Sketching", "Horse Riding"]
    }"""
y = json.loads(x)
print(y)
print(type(y))


a =  """[{"Sub1":"stop", "Sub2":3}, {"Sub1":"go", "Sub2":6}]"""
print(a)
print(type(a))
b = json.loads(a)
print(b)
print(type(b))


for i in b:
    print(type(i))
    #row = json.loads(i)
    #print(row)



