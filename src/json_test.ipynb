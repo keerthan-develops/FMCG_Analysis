{
 "cells": [
  {
   "cell_type": "code",
   "execution_count": 1,
   "id": "b803d787-ce5b-4c71-aeab-5843b5cd7551",
   "metadata": {},
   "outputs": [],
   "source": [
    "from pathlib import Path\n",
    "from pyspark.sql import SparkSession\n",
    "from pyspark.sql.functions import from_json, to_json, col, udf, explode, lit, coalesce\n",
    "from pyspark.sql.types import StructType, StructField, StringType, IntegerType\n",
    "import json"
   ]
  },
  {
   "cell_type": "code",
   "execution_count": 2,
   "id": "3e5d553d-f19c-420b-af43-7a0421218053",
   "metadata": {},
   "outputs": [
    {
     "name": "stderr",
     "output_type": "stream",
     "text": [
      "Setting default log level to \"WARN\".\n",
      "To adjust logging level use sc.setLogLevel(newLevel). For SparkR, use setLogLevel(newLevel).\n",
      "24/03/30 12:47:06 WARN NativeCodeLoader: Unable to load native-hadoop library for your platform... using builtin-java classes where applicable\n"
     ]
    }
   ],
   "source": [
    "spark = SparkSession.builder.appName('json_test').master('local').getOrCreate()\n",
    "sc = spark.sparkContext"
   ]
  },
  {
   "cell_type": "code",
   "execution_count": 3,
   "id": "a96e75fa-14cb-4e20-bd57-b3c84109d002",
   "metadata": {},
   "outputs": [],
   "source": [
    "pwd = Path().resolve()\n",
    "pwd\n",
    "repo_dir = str(pwd).replace('/src', '')\n",
    "repo_dir = Path(repo_dir).resolve()\n",
    "# print(type(repo_dir))\n",
    "# print(repo_dir)\n",
    "data_dir = Path(repo_dir) / 'data'\n",
    "# print(data_dir)\n",
    "clp_path = str(data_dir / 'clp-places.json')\n",
    "# print(Path(clp_path).is_file())\n",
    "cogo_path = str(data_dir / 'cogo-colpnts.json')\n",
    "# print(Path(cogo_path).is_file())\n",
    "dats_path = str(data_dir / 'dats-places.json')\n",
    "# print(Path(dats_path).is_file())\n",
    "okay_path = str(data_dir / 'okay-places.json')\n",
    "# print(Path(okay_path).is_file())\n",
    "spar_path = str(data_dir / 'spar-places.json')\n",
    "# print(Path(spar_path).is_file())"
   ]
  },
  {
   "cell_type": "code",
   "execution_count": 4,
   "id": "3aee44df-fa2d-4fd5-be7c-8aa4fef042aa",
   "metadata": {},
   "outputs": [],
   "source": [
    "# Read json files\n",
    "clp_df = spark.read.options(Header=True).json(clp_path)\n",
    "cogo_df = spark.read.options(Header=True).json(cogo_path)\n",
    "dats_df = spark.read.options(Header=True).json(dats_path)\n",
    "okay_df = spark.read.options(Header=True).json(okay_path)\n",
    "spar_df = spark.read.options(Header=True).json(spar_path)"
   ]
  },
  {
   "cell_type": "code",
   "execution_count": 5,
   "id": "42338043-ab6c-423d-a389-8da169fcbf4e",
   "metadata": {},
   "outputs": [
    {
     "data": {
      "text/plain": [
       "259"
      ]
     },
     "execution_count": 5,
     "metadata": {},
     "output_type": "execute_result"
    }
   ],
   "source": [
    "clp_df.count()\n",
    "#clp_df.printSchema()\n",
    "#okay_df.show(1, 0)"
   ]
  },
  {
   "cell_type": "code",
   "execution_count": 6,
   "id": "915ce7aa-3685-4d55-be1a-00d30edbf609",
   "metadata": {},
   "outputs": [
    {
     "data": {
      "text/plain": [
       "276"
      ]
     },
     "execution_count": 6,
     "metadata": {},
     "output_type": "execute_result"
    }
   ],
   "source": [
    "cogo_df.count()\n",
    "#cogo_df.printSchema()\n",
    "#cogo_df.show(2, 0)"
   ]
  },
  {
   "cell_type": "code",
   "execution_count": 7,
   "id": "5e60c32c-84fe-40ad-91b5-4ed3c6b5e3fd",
   "metadata": {},
   "outputs": [
    {
     "data": {
      "text/plain": [
       "145"
      ]
     },
     "execution_count": 7,
     "metadata": {},
     "output_type": "execute_result"
    }
   ],
   "source": [
    "dats_df.count()\n",
    "#dats_df.printSchema()\n",
    "# okay_df.show(2, 0)"
   ]
  },
  {
   "cell_type": "code",
   "execution_count": 8,
   "id": "cb956e25-1c23-4195-860a-e3489f98c889",
   "metadata": {},
   "outputs": [
    {
     "data": {
      "text/plain": [
       "169"
      ]
     },
     "execution_count": 8,
     "metadata": {},
     "output_type": "execute_result"
    }
   ],
   "source": [
    "okay_df.count()\n",
    "#okay_df.printSchema()\n",
    "# okay_df.show(2, 0)"
   ]
  },
  {
   "cell_type": "code",
   "execution_count": 9,
   "id": "64be6d55-16cc-4502-887a-8e646f59ff9f",
   "metadata": {},
   "outputs": [
    {
     "data": {
      "text/plain": [
       "217"
      ]
     },
     "execution_count": 9,
     "metadata": {},
     "output_type": "execute_result"
    }
   ],
   "source": [
    "spar_df.count()\n",
    "#spar_df.printSchema()\n"
   ]
  },
  {
   "cell_type": "code",
   "execution_count": 10,
   "id": "d88b6630",
   "metadata": {},
   "outputs": [],
   "source": [
    "temporaryClosures_schema = StructType([\n",
    "    StructField('from', StringType()),\n",
    "    StructField('till', StringType())\n",
    "])"
   ]
  },
  {
   "cell_type": "code",
   "execution_count": 11,
   "id": "52f84780",
   "metadata": {},
   "outputs": [
    {
     "name": "stdout",
     "output_type": "stream",
     "text": [
      "8\n",
      "251\n"
     ]
    }
   ],
   "source": [
    "clp_tmp_exists = clp_df.filter(\"cast(temporaryClosures as string) != '[]'\")\n",
    "clp_tmp_not_exists = clp_df.filter(\"cast(temporaryClosures as string) = '[]'\")\n",
    "print(clp_tmp_exists.count())\n",
    "print(clp_tmp_not_exists.count())"
   ]
  },
  {
   "cell_type": "code",
   "execution_count": 12,
   "id": "e8b46056-8f1f-4fc5-af73-458249c061cf",
   "metadata": {},
   "outputs": [
    {
     "name": "stdout",
     "output_type": "stream",
     "text": [
      "8\n"
     ]
    }
   ],
   "source": [
    "# exploding temporaryClosures column for clp which has value\n",
    "# clp_tmp_clos_df = clp_df.withColumn('temporaryClosures_exp', explode(col('temporaryClosures')))\n",
    "clp_tmp_exists_exp = clp_tmp_exists.withColumn('temporaryClosures', explode(col('temporaryClosures')))\n",
    "print(clp_tmp_exists_exp.count())\n",
    "\n",
    "clp_tmp_exists_exp = clp_tmp_exists_exp.withColumn('temporaryClosure_from', col('temporaryClosures.from')) \\\n",
    ".withColumn('temporaryClosure_till', col('temporaryClosures.till')) \\\n",
    ".drop('temporaryClosures')\n",
    "\n",
    "clp_tmp_not_exists = clp_tmp_not_exists.withColumn('temporaryClosure_from', lit('')) \\\n",
    ".withColumn('temporaryClosure_till', lit('')) \\\n",
    "    .drop('temporaryClosures')\n",
    "#clp_tmp_exists_exp.printSchema()\n",
    "#clp_tmp_not_exists.printSchema()"
   ]
  },
  {
   "cell_type": "code",
   "execution_count": 13,
   "metadata": {},
   "outputs": [
    {
     "name": "stdout",
     "output_type": "stream",
     "text": [
      "259\n"
     ]
    }
   ],
   "source": [
    "# Union exists and not exists clp datasets\n",
    "clp_union_df = clp_tmp_exists_exp.union(clp_tmp_not_exists)\n",
    "clp_union_df.count()\n",
    "#clp_union_df.printSchema()\n",
    "\n",
    "# exploding handoverservices\n",
    "#clp_final_df = clp_union_df.withColumn('handoverServices', explode(col('handoverServices')))\n",
    "clp_final_df = clp_union_df\n",
    "#clp_final_df.printSchema()\n",
    "print(clp_final_df.count())"
   ]
  },
  {
   "cell_type": "code",
   "execution_count": 14,
   "id": "d8a5c5df",
   "metadata": {},
   "outputs": [
    {
     "data": {
      "text/plain": [
       "276"
      ]
     },
     "execution_count": 14,
     "metadata": {},
     "output_type": "execute_result"
    }
   ],
   "source": [
    "cogo_tmp_df = cogo_df.withColumn('temporaryClosure_from', lit('')) \\\n",
    "    .withColumn('temporaryClosure_till', lit(''))\n",
    "cogo_tmp_df.count()"
   ]
  },
  {
   "cell_type": "code",
   "execution_count": 21,
   "id": "0dd1a8f8",
   "metadata": {},
   "outputs": [
    {
     "data": {
      "text/plain": [
       "276"
      ]
     },
     "execution_count": 21,
     "metadata": {},
     "output_type": "execute_result"
    }
   ],
   "source": [
    "cogo_final_df = cogo_tmp_df.drop('temporaryClosures')\n",
    "cogo_final_df.count()"
   ]
  },
  {
   "cell_type": "code",
   "execution_count": 22,
   "id": "7e1d35ae",
   "metadata": {},
   "outputs": [],
   "source": [
    "clp_cogo = clp_final_df.union(cogo_final_df)"
   ]
  },
  {
   "cell_type": "code",
   "execution_count": 23,
   "id": "dc9953b7",
   "metadata": {},
   "outputs": [
    {
     "name": "stdout",
     "output_type": "stream",
     "text": [
      "+---------------------------------------------------+--------+-------------------+-----------------+----------------------+--------------------------------+--------+---------------------------------------------------+-------+---------------------------------------------------------------------------+-------------------+-------------------------------------------------+-------------------+------------+---------------------+---------------------+\n",
      "|address                                            |branchId|commercialName     |ensign           |geoCoordinates        |handoverServices                |isActive|moreInfoUrl                                        |placeId|placeSearchOpeningHours                                                    |placeType          |routeUrl                                         |sellingPartners    |sourceStatus|temporaryClosure_from|temporaryClosure_till|\n",
      "+---------------------------------------------------+--------+-------------------+-----------------+----------------------+--------------------------------+--------+---------------------------------------------------+-------+---------------------------------------------------------------------------+-------------------+-------------------------------------------------+-------------------+------------+---------------------+---------------------+\n",
      "|{AALST, BE, België, 41, 9300, BRUSSELSE STEENWEG}  |4156    |AALST (COLRUYT)    |{8, COLR_Colruyt}|{50.933074, 4.0538972}|[CSOP_ORDERABLE, PREPAID_PARCEL]|true    |https://www.colruyt.be/nl/colruyt-openingsuren/4156|902    |[{2000, 27-03-2024, true, true, 830}, {2000, 28-03-2024, true, false, 830}]|{1, Winkel, Winkel}|https://maps.apple.com/?daddr=50.933074,4.0538972|[QUALITY, 3RDPARTY]|AC          |08-04-2024           |28-04-2024           |\n",
      "|{ANDERLUES, BE, België, 4, 6150, RUE DE LA STATION}|3074    |ANDERLUES (COLRUYT)|{8, COLR_Colruyt}|{50.401257, 4.2797751}|[CSOP_ORDERABLE]                |false   |https://www.colruyt.be/nl/colruyt-openingsuren/3074|448    |[]                                                                         |{1, Winkel, Winkel}|https://maps.apple.com/?daddr=50.401257,4.2797751|[QUALITY]          |IN          |25-03-2024           |28-04-2024           |\n",
      "+---------------------------------------------------+--------+-------------------+-----------------+----------------------+--------------------------------+--------+---------------------------------------------------+-------+---------------------------------------------------------------------------+-------------------+-------------------------------------------------+-------------------+------------+---------------------+---------------------+\n",
      "only showing top 2 rows\n",
      "\n"
     ]
    },
    {
     "data": {
      "text/plain": [
       "535"
      ]
     },
     "execution_count": 23,
     "metadata": {},
     "output_type": "execute_result"
    }
   ],
   "source": [
    "clp_cogo.show(2,0)\n",
    "clp_cogo.count()"
   ]
  },
  {
   "cell_type": "code",
   "execution_count": 25,
   "id": "f83025c3",
   "metadata": {},
   "outputs": [
    {
     "name": "stdout",
     "output_type": "stream",
     "text": [
      "3\n",
      "166\n",
      "3\n",
      "169\n"
     ]
    }
   ],
   "source": [
    "# okay\n",
    "\n",
    "\n",
    "okay_tmp_exists = okay_df.filter(\"cast(temporaryClosures as string) != '[]'\")\n",
    "okay_tmp_not_exists = okay_df.filter(\"cast(temporaryClosures as string) = '[]'\")\n",
    "print(okay_tmp_exists.count())\n",
    "print(okay_tmp_not_exists.count())\n",
    "\n",
    "\n",
    "# exploding temporaryClosures column for okay which has value\n",
    "# okay_tmp_clos_df = clp_df.withColumn('temporaryClosures_exp', explode(col('temporaryClosures')))\n",
    "okay_tmp_exists_exp = okay_tmp_exists.withColumn('temporaryClosures', explode(col('temporaryClosures')))\n",
    "print(okay_tmp_exists_exp.count())\n",
    "okay_tmp_exists_exp = okay_tmp_exists_exp.withColumn('temporaryClosure_from', col('temporaryClosures.from')) \\\n",
    ".withColumn('temporaryClosure_till', col('temporaryClosures.till')) \\\n",
    ".drop('temporaryClosures')\n",
    "okay_tmp_exists_exp.count()\n",
    "#okay_tmp_exists_exp.printSchema()\n",
    "#okay_tmp_not_exists.printSchema()\n",
    "\n",
    "# transforming not explode dataframe to temp column to struct from array\n",
    "okay_tmp_not_exists.count()\n",
    "okay_tmp_not_exists = okay_tmp_not_exists.drop('temporaryClosures')\\\n",
    "    .withColumn('temporaryClosure_from', lit('')) \\\n",
    "    .withColumn('temporaryClosure_till', lit(''))\n",
    "okay_tmp_not_exists.count()\n",
    "\n",
    "\n",
    "# Union exists and not exists clp datasets\n",
    "okay_union_df = okay_tmp_exists_exp.union(okay_tmp_not_exists)\n",
    "okay_union_df.count()\n",
    "#okay_union_df.printSchema()\n",
    "\n",
    "# exploding handoverservices\n",
    "#okay_final_df = okay_union_df.withColumn('handoverServices', explode(col('handoverServices')))\n",
    "okay_final_df = okay_union_df\n",
    "#okay_final_df.printSchema()\n",
    "print(okay_final_df.count())"
   ]
  },
  {
   "cell_type": "code",
   "execution_count": 27,
   "id": "034877dd",
   "metadata": {},
   "outputs": [
    {
     "data": {
      "text/plain": [
       "704"
      ]
     },
     "execution_count": 27,
     "metadata": {},
     "output_type": "execute_result"
    }
   ],
   "source": [
    "clp_cogo_okay = clp_cogo.union(okay_final_df)\n",
    "clp_cogo_okay.count()"
   ]
  },
  {
   "cell_type": "code",
   "execution_count": null,
   "id": "0bb31081",
   "metadata": {},
   "outputs": [],
   "source": []
  }
 ],
 "metadata": {
  "kernelspec": {
   "display_name": "pyspark_fmcg",
   "language": "python",
   "name": "pyspark_fmcg"
  },
  "language_info": {
   "codemirror_mode": {
    "name": "ipython",
    "version": 3
   },
   "file_extension": ".py",
   "mimetype": "text/x-python",
   "name": "python",
   "nbconvert_exporter": "python",
   "pygments_lexer": "ipython3",
   "version": "3.11.7"
  }
 },
 "nbformat": 4,
 "nbformat_minor": 5
}
