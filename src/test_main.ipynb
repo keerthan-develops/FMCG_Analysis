{
 "cells": [
  {
   "cell_type": "code",
   "execution_count": null,
   "metadata": {},
   "outputs": [],
   "source": [
    "from pathlib import Path\n",
    "import findspark\n",
    "from pyspark.sql import SparkSession\n",
    "from pyspark.sql.functions import from_json, to_json, col, udf, explode, lit, coalesce\n",
    "import logging\n",
    "from setLogger import setLogger\n",
    "from resolvePath import resolvePath\n",
    "from transform import brands, datasetTransform"
   ]
  },
  {
   "cell_type": "code",
   "execution_count": null,
   "metadata": {},
   "outputs": [],
   "source": [
    "spark = (\n",
    "                SparkSession\n",
    "                .builder\n",
    "                .appName(\"cg-pyspark-assignment-nb\")\n",
    "                .master(\"local\")\n",
    "                .config(\"spark.sql.repl.eagerEval.enabled\", True)\n",
    "                .getOrCreate()\n",
    "    )"
   ]
  },
  {
   "cell_type": "code",
   "execution_count": null,
   "metadata": {},
   "outputs": [],
   "source": [
    "# Create and configure logger\n",
    "logger = logging.getLogger(__name__)\n",
    "\n",
    "# Call the setLogger method to instantiate handler\n",
    "logger_obj = setLogger(logger, 'main')\n",
    "logger = logger_obj.set_handler()\n",
    "logger.info('Logger succesfully created')"
   ]
  },
  {
   "cell_type": "code",
   "execution_count": null,
   "metadata": {},
   "outputs": [],
   "source": [
    "# Resolve paths\n",
    "path_obj = resolvePath()\n",
    "data_dir, clp_path, cogo_path, dats_path, okay_path, spar_path, log_path, postal_config_path = path_obj.get_path()\n",
    "# Create a transform object and load CLP data into a dataframe\n",
    "clp_obj = brands(clp_path, spark)\n",
    "clp_df = clp_obj.get_data_by_brand('CLP')\n",
    "cogo_obj = brands(cogo_path, spark)\n",
    "cogo_df = cogo_obj.get_data_by_brand('COGO')\n",
    "dats_obj = brands(dats_path, spark)\n",
    "dats_df = dats_obj.get_data_by_brand('DATS')\n",
    "logger.info('DATS DATS DATS')\n",
    "logger.info(dats_df.printSchema())\n",
    "okay_obj = brands(okay_path, spark)\n",
    "okay_df = okay_obj.get_data_by_brand('OKAY')\n",
    "spar_obj = brands(spar_path, spark)\n",
    "spar_df = spar_obj.get_data_by_brand('SPAR')"
   ]
  },
  {
   "cell_type": "code",
   "execution_count": null,
   "metadata": {},
   "outputs": [],
   "source": [
    "# temperoryClosures attribute transformation\n",
    "clp_df2= clp_obj.transform_tempClosure_attr(clp_df)\n",
    "logger.info(f'CLP DF2 count > {clp_df2.count()}')\n",
    "\n",
    "cogo_df2= cogo_obj.transform_tempClosure_attr(cogo_df)\n",
    "logger.info(f'COGO DF2 count > {cogo_df2.count()}')\n",
    "\n",
    "okay_df2= okay_obj.transform_tempClosure_attr(okay_df)\n",
    "logger.info(f'OKAY DF2 count > {okay_df2.count()}')\n",
    "\n",
    "spar_df2= spar_obj.transform_tempClosure_attr(spar_df)\n",
    "logger.info(f'SPAR DF2 count > {spar_df2.count()}')\n",
    "\n",
    "dats_df2= dats_obj.transform_tempClosure_attr(dats_df)\n",
    "logger.info(f'SPAR DF2 count > {dats_df2.count()}')"
   ]
  },
  {
   "cell_type": "code",
   "execution_count": null,
   "metadata": {},
   "outputs": [],
   "source": [
    "# handoverServices attribute transformation\n",
    "clp_df3 = clp_obj.explode_array_attribute(clp_df2, 'handoverServices')\n",
    "cogo_df3 = cogo_obj.explode_array_attribute(cogo_df2, 'handoverServices')\n",
    "okay_df3 = okay_obj.explode_array_attribute(okay_df2, 'handoverServices')\n",
    "\n",
    "\n",
    "# sellingPartners attribute transformation\n",
    "clp_df4 = clp_obj.explode_array_attribute(clp_df3, 'sellingPartners')\n",
    "cogo_df4 = cogo_obj.explode_array_attribute(cogo_df3, 'sellingPartners')\n",
    "okay_df4 = okay_obj.explode_array_attribute(okay_df3, 'sellingPartners')\n",
    "\n",
    "# SPAR add missing columns\n",
    "spar_add_col_list = ['handoverServices', 'sellingPartners']\n",
    "spar_df3 = spar_obj.add_default_string_column(spar_df2, spar_add_col_list)\n",
    "\n",
    "# placeSearchOpeningHours attribute array explode\n",
    "clp_df5  = clp_obj.explode_array_attribute(clp_df4, 'placeSearchOpeningHours')\n",
    "cogo_df5 = cogo_obj.explode_array_attribute(cogo_df4, 'placeSearchOpeningHours')\n",
    "okay_df5 = okay_obj.explode_array_attribute(okay_df4, 'placeSearchOpeningHours')\n",
    "spar_df4 = spar_obj.explode_array_attribute(spar_df3, 'placeSearchOpeningHours')\n",
    "\n",
    "# placeSearchOpeningHours attribute struct columns extraction\n",
    "\n",
    "struct_placeSearchOpeningHours_attr_list = ['date', 'opens', 'closes', 'isToday', 'isOpenForTheDay']\n",
    "clp_df6 = clp_obj.extract_struct_attributes(clp_df5, 'placeSearchOpeningHours', struct_placeSearchOpeningHours_attr_list)\n",
    "cogo_df6 = cogo_obj.extract_struct_attributes(cogo_df5, 'placeSearchOpeningHours', struct_placeSearchOpeningHours_attr_list)\n",
    "okay_df6 = okay_obj.extract_struct_attributes(okay_df5, 'placeSearchOpeningHours', struct_placeSearchOpeningHours_attr_list)\n",
    "spar_df5 = spar_obj.extract_struct_attributes(spar_df4, 'placeSearchOpeningHours', struct_placeSearchOpeningHours_attr_list)\n",
    "\n",
    "\n",
    "# DATS > add all the missing columns with default values\n",
    "            \n",
    "dats_missing_columns_list = ['handoverServices', 'sellingPartners', 'placeSearchOpeningHours_date', \\\n",
    "                             'placeSearchOpeningHours_opens', 'placeSearchOpeningHours_opens',\\\n",
    "                             'placeSearchOpeningHours_closes', 'placeSearchOpeningHours_isToday',\\\n",
    "                             'placeSearchOpeningHours_isOpenForTheDay', 'placeSearchOpeningHours'\\\n",
    "                             ]\n",
    "dats_df3 = dats_obj.add_default_string_column(dats_df2, dats_missing_columns_list)\n",
    "logger.info(f'DATS post adding default columns')\n",
    "logger.debug(dats_df3.printSchema())\n",
    "\n",
    "\n",
    "# Organising schema\n",
    "spar_df6 = spar_obj.organise_schema(spar_df5)\n",
    "dats_df4 = dats_obj.organise_schema(dats_df3)\n",
    "\n",
    "\n",
    "# Drop placeSearchOpeningHours \n",
    "drop_col_list = ('placeSearchOpeningHours', 'placeSearchOpeningHours_isOpenForTheDay', 'placeSearchOpeningHours_isToday')\n",
    "clp_df7 = clp_obj.drop_columns(clp_df6, drop_col_list)\n",
    "cogo_df7 = cogo_obj.drop_columns(cogo_df6, drop_col_list)\n",
    "okay_df7 = okay_obj.drop_columns(okay_df6, drop_col_list)\n",
    "spar_df7 = spar_obj.drop_columns(spar_df6, drop_col_list)\n",
    "dats_df5 = dats_obj.drop_columns(dats_df4, drop_col_list)\n",
    "\n",
    "logger.debug(f'Final CLP schema for clp_df7')\n",
    "logger.debug(clp_df7.printSchema())\n",
    "logger.debug(f'Final DATS schema for dats_df5')\n",
    "logger.debug(dats_df5.printSchema())\n",
    "\n",
    "    \n",
    "# Union of all brands\n",
    "merged_df = brands.union_brands(clp_df7, cogo_df7, okay_df7, spar_df7, dats_df5)\n",
    "logger.info(f'merged_df count > {merged_df.count()}')"
   ]
  },
  {
   "cell_type": "code",
   "execution_count": null,
   "metadata": {},
   "outputs": [],
   "source": [
    "# Extract \"postal_code\" from address \n",
    "merged_df.printSchema()\n",
    "merged_df.select('address.postalcode').show(10, 0)"
   ]
  },
  {
   "cell_type": "code",
   "execution_count": null,
   "metadata": {},
   "outputs": [],
   "source": [
    "# Create an object of class datasetTransform\n",
    "dt_obj = datasetTransform(spark)\n",
    "dt_obj.extract_postal_code(merged_df)"
   ]
  },
  {
   "cell_type": "code",
   "execution_count": null,
   "metadata": {},
   "outputs": [],
   "source": [
    "dt_obj.read_postal_code_mapping_config(postal_config_path)"
   ]
  },
  {
   "cell_type": "code",
   "execution_count": null,
   "metadata": {},
   "outputs": [],
   "source": []
  }
 ],
 "metadata": {
  "kernelspec": {
   "display_name": "pyspark_fmcg",
   "language": "python",
   "name": "pyspark_fmcg"
  },
  "language_info": {
   "codemirror_mode": {
    "name": "ipython",
    "version": 3
   },
   "file_extension": ".py",
   "mimetype": "text/x-python",
   "name": "python",
   "nbconvert_exporter": "python",
   "pygments_lexer": "ipython3",
   "version": "3.11.7"
  }
 },
 "nbformat": 4,
 "nbformat_minor": 2
}
