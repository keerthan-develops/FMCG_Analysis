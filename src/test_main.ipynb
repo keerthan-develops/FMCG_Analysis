{
 "cells": [
  {
   "cell_type": "code",
   "execution_count": null,
   "metadata": {},
   "outputs": [],
   "source": [
    "from pathlib import Path\n",
    "import findspark\n",
    "from pyspark.sql import SparkSession\n",
    "import logging\n",
    "from setLogger import setLogger\n",
    "from resolvePath import resolvePath\n",
    "from transform import transform"
   ]
  },
  {
   "cell_type": "code",
   "execution_count": null,
   "metadata": {},
   "outputs": [],
   "source": [
    "spark = (\n",
    "                SparkSession\n",
    "                .builder\n",
    "                .appName(\"cg-pyspark-assignment-nb\")\n",
    "                .master(\"local\")\n",
    "                .config(\"spark.sql.repl.eagerEval.enabled\", True)\n",
    "                .getOrCreate()\n",
    "    )"
   ]
  },
  {
   "cell_type": "code",
   "execution_count": null,
   "metadata": {},
   "outputs": [],
   "source": [
    "# Create and configure logger\n",
    "logger = logging.getLogger(__name__)\n",
    "\n",
    "# Call the setLogger method to instantiate handler\n",
    "logger_obj = setLogger(logger, 'main')\n",
    "logger = logger_obj.set_handler()\n",
    "logger.info('Logger succesfully created')"
   ]
  },
  {
   "cell_type": "code",
   "execution_count": null,
   "metadata": {},
   "outputs": [],
   "source": [
    "# Resolve paths\n",
    "path_obj = resolvePath()\n",
    "data_dir, clp_path, cogo_path, dats_path, okay_path, spar_path, log_path = path_obj.get_path()\n",
    "\n",
    "# Create a transform object and load CLP data into a dataframe\n",
    "clp_obj = transform(clp_path, spark)\n",
    "clp_df = clp_obj.get_data_by_brand('CLP')\n",
    "\n",
    "cogo_obj = transform(cogo_path, spark)\n",
    "cogo_df = cogo_obj.get_data_by_brand('COGO')\n",
    "\n",
    "dats_obj = transform(dats_path, spark)\n",
    "dats_df = dats_obj.get_data_by_brand('DATS')\n",
    "\n",
    "okay_obj = transform(okay_path, spark)\n",
    "okay_df = okay_obj.get_data_by_brand('OKAY')\n",
    "\n",
    "spar_obj = transform(spar_path, spark)\n",
    "spar_df = spar_obj.get_data_by_brand('SPAR')"
   ]
  },
  {
   "cell_type": "code",
   "execution_count": null,
   "metadata": {},
   "outputs": [],
   "source": [
    "# temperoryClosures attribute transformation\n",
    "\n",
    "clp_df2= clp_obj.transform_tempClosure_attr(clp_df)\n",
    "logger.info(f'CLP DF2 count > {clp_df2.count()}')\n",
    "\n",
    "cogo_df2= cogo_obj.transform_tempClosure_attr(cogo_df)\n",
    "logger.info(f'COGO DF2 count > {cogo_df2.count()}')\n",
    "\n",
    "okay_df2= okay_obj.transform_tempClosure_attr(okay_df)\n",
    "logger.info(f'OKAY DF2 count > {okay_df2.count()}')\n",
    "\n",
    "dats_df2= dats_obj.transform_tempClosure_attr(dats_df)\n",
    "logger.info(f'DATS DF2 count > {dats_df2.count()}')\n"
   ]
  },
  {
   "cell_type": "code",
   "execution_count": null,
   "metadata": {},
   "outputs": [],
   "source": [
    "# handoverServices attribute transformation\n",
    "clp_df3 = clp_obj.explode_array_attribute(clp_df2, 'handoverServices')\n",
    "cogo_df3 = cogo_obj.explode_array_attribute(cogo_df2, 'handoverServices')\n",
    "okay_df3 = okay_obj.explode_array_attribute(okay_df2, 'handoverServices')"
   ]
  },
  {
   "cell_type": "code",
   "execution_count": null,
   "metadata": {},
   "outputs": [],
   "source": [
    "# sellingPartners attribute transformation\n",
    "clp_df4 = clp_obj.explode_array_attribute(clp_df3, 'sellingPartners')\n",
    "cogo_df4 = cogo_obj.explode_array_attribute(cogo_df3, 'sellingPartners')\n",
    "okay_df4 = okay_obj.explode_array_attribute(okay_df3, 'sellingPartners')"
   ]
  },
  {
   "cell_type": "code",
   "execution_count": null,
   "metadata": {},
   "outputs": [],
   "source": [
    "# Union of all brands\n",
    "clp_cogo_okay = transform.union_brands(clp_df4, cogo_df4, okay_df4)\n",
    "logger.info(f'clp_cogo_okay count > {clp_cogo_okay.count()}')"
   ]
  },
  {
   "cell_type": "code",
   "execution_count": null,
   "metadata": {},
   "outputs": [],
   "source": [
    "logger.info(okay_df4.printSchema())"
   ]
  },
  {
   "cell_type": "code",
   "execution_count": null,
   "metadata": {},
   "outputs": [],
   "source": [
    "# sellingPartners attribute transformation\n",
    "clp_df5 = clp_obj.explode_array_attribute(clp_df4, 'placeSearchOpeningHours')\n",
    "cogo_df5 = cogo_obj.explode_array_attribute(cogo_df4, 'placeSearchOpeningHours')\n",
    "okay_df5 = okay_obj.explode_array_attribute(okay_df4, 'placeSearchOpeningHours')\n",
    "logger.info(okay_df5.printSchema())"
   ]
  },
  {
   "cell_type": "code",
   "execution_count": null,
   "metadata": {},
   "outputs": [],
   "source": [
    "struct_placeSearchOpeningHours_attr_list = ['date', 'opens', 'closes', 'isToday', 'isOpenForTheDay']\n",
    "okay_obj.extract_struct_attributes(okay_df5, 'placeSearchOpeningHours', struct_placeSearchOpeningHours_attr_list)"
   ]
  }
 ],
 "metadata": {
  "kernelspec": {
   "display_name": "pyspark_fmcg",
   "language": "python",
   "name": "pyspark_fmcg"
  },
  "language_info": {
   "codemirror_mode": {
    "name": "ipython",
    "version": 3
   },
   "file_extension": ".py",
   "mimetype": "text/x-python",
   "name": "python",
   "nbconvert_exporter": "python",
   "pygments_lexer": "ipython3",
   "version": "3.11.7"
  }
 },
 "nbformat": 4,
 "nbformat_minor": 2
}
