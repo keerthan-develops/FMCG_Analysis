{
 "cells": [
  {
   "cell_type": "code",
   "execution_count": 2,
   "id": "4566566e-a931-42f7-a894-c956569df1ee",
   "metadata": {},
   "outputs": [],
   "source": [
    "from os import environ\n",
    "import findspark"
   ]
  },
  {
   "cell_type": "code",
   "execution_count": 3,
   "id": "ad3078fa-35cf-4d31-9305-707551a440e1",
   "metadata": {},
   "outputs": [],
   "source": [
    "findspark.init()"
   ]
  },
  {
   "cell_type": "code",
   "execution_count": 7,
   "id": "d64fca10-8205-484c-a587-6f0f350c1e65",
   "metadata": {},
   "outputs": [
    {
     "data": {
      "text/html": [
       "\n",
       "            <div>\n",
       "                <p><b>SparkSession - in-memory</b></p>\n",
       "                \n",
       "        <div>\n",
       "            <p><b>SparkContext</b></p>\n",
       "\n",
       "            <p><a href=\"http://192.168.1.15:4040\">Spark UI</a></p>\n",
       "\n",
       "            <dl>\n",
       "              <dt>Version</dt>\n",
       "                <dd><code>v3.5.1</code></dd>\n",
       "              <dt>Master</dt>\n",
       "                <dd><code>local</code></dd>\n",
       "              <dt>AppName</dt>\n",
       "                <dd><code>cg-pyspark-assignment</code></dd>\n",
       "            </dl>\n",
       "        </div>\n",
       "        \n",
       "            </div>\n",
       "        "
      ],
      "text/plain": [
       "<pyspark.sql.session.SparkSession at 0x10d665ad0>"
      ]
     },
     "execution_count": 7,
     "metadata": {},
     "output_type": "execute_result"
    }
   ],
   "source": [
    "from pyspark.sql import SparkSession\n",
    "# spark.sql.repl.eagerEval.enabled: Property used to format output tables better\n",
    "\n",
    "spark = (\n",
    "    SparkSession\n",
    "    .builder\n",
    "    .appName(\"cg-pyspark-assignment\")\n",
    "    .master(\"local\")\n",
    "    .config(\"spark.sql.repl.eagerEval.enabled\", True)\n",
    "    .getOrCreate()\n",
    "  )\n",
    "spark\n",
    "# mastan-shaik\n",
    "# MarkiesFredje"
   ]
  },
  {
   "cell_type": "code",
   "execution_count": 8,
   "id": "9bc070ea-6309-444a-a53a-a6f30a4776ef",
   "metadata": {},
   "outputs": [
    {
     "name": "stdout",
     "output_type": "stream",
     "text": [
      "  % Total    % Received % Xferd  Average Speed   Time    Time     Time  Current\n",
      "                                 Dload  Upload   Total   Spent    Left  Speed\n",
      "100  222k    0  222k    0     0   101k      0 --:--:--  0:00:02 --:--:--  101k\n",
      "  % Total    % Received % Xferd  Average Speed   Time    Time     Time  Current\n",
      "                                 Dload  Upload   Total   Spent    Left  Speed\n",
      "100  147k    0  147k    0     0  89226      0 --:--:--  0:00:01 --:--:-- 89242\n",
      "  % Total    % Received % Xferd  Average Speed   Time    Time     Time  Current\n",
      "                                 Dload  Upload   Total   Spent    Left  Speed\n",
      "100  165k    0  165k    0     0   111k      0 --:--:--  0:00:01 --:--:--  111k\n",
      "  % Total    % Received % Xferd  Average Speed   Time    Time     Time  Current\n",
      "                                 Dload  Upload   Total   Spent    Left  Speed\n",
      "100 89162    0 89162    0     0   125k      0 --:--:-- --:--:-- --:--:--  125k\n",
      "  % Total    % Received % Xferd  Average Speed   Time    Time     Time  Current\n",
      "                                 Dload  Upload   Total   Spent    Left  Speed\n",
      "100  240k    0  240k    0     0   166k      0 --:--:--  0:00:01 --:--:--  166k\n"
     ]
    }
   ],
   "source": [
    "!curl https://ecgplacesmw.colruytgroup.com/ecgplacesmw/v3/nl/places/filter/clp-places > clp-places.json\n",
    "!curl https://ecgplacesmw.colruytgroup.com/ecgplacesmw/v3/nl/places/filter/okay-places > okay-places.json\n",
    "!curl https://ecgplacesmw.colruytgroup.com/ecgplacesmw/v3/nl/places/filter/spar-places > spar-places.json\n",
    "!curl https://ecgplacesmw.colruytgroup.com/ecgplacesmw/v3/nl/places/filter/dats-places > dats-places.json\n",
    "!curl https://ecgplacesmw.colruytgroup.com/ecgplacesmw/v3/nl/places/filter/cogo-colpnts > cogo-colpnts.json"
   ]
  },
  {
   "cell_type": "code",
   "execution_count": 9,
   "id": "0437ee77-9ed5-4dd7-8b16-b065f03ec16f",
   "metadata": {},
   "outputs": [],
   "source": [
    "# importing module\n",
    "import logging"
   ]
  },
  {
   "cell_type": "code",
   "execution_count": 10,
   "id": "79028248-b7d3-43eb-994c-73d3c626edfc",
   "metadata": {},
   "outputs": [],
   "source": [
    "# Create and configure logger\n",
    "logging.basicConfig(filename=\"/Users/keerthan/Projects/FMCG_Analysis/logs/assignment.log\",\n",
    "                    format='%(asctime)s %(message)s',\n",
    "                    filemode='w')"
   ]
  },
  {
   "cell_type": "code",
   "execution_count": 12,
   "id": "2a013f16-6dd5-4413-ada8-28b8e8647d8e",
   "metadata": {},
   "outputs": [],
   "source": [
    "clp = spark.read.json('/Users/keerthan/Projects/FMCG_Analysis/data/clp-places.json')"
   ]
  },
  {
   "cell_type": "code",
   "execution_count": 13,
   "id": "b63cc8df-df20-4d2e-90fa-566c60a05755",
   "metadata": {},
   "outputs": [
    {
     "name": "stdout",
     "output_type": "stream",
     "text": [
      "+--------------------------------------------------------+--------+------------------------------+-----------------+-----------------------------+--------------------------------+--------+---------------------------------------------------+-------+---------------------------------------------------------------------------+-------------------+--------------------------------------------------------+-------------------+------------+--------------------------+\n",
      "|address                                                 |branchId|commercialName                |ensign           |geoCoordinates               |handoverServices                |isActive|moreInfoUrl                                        |placeId|placeSearchOpeningHours                                                    |placeType          |routeUrl                                                |sellingPartners    |sourceStatus|temporaryClosures         |\n",
      "+--------------------------------------------------------+--------+------------------------------+-----------------+-----------------------------+--------------------------------+--------+---------------------------------------------------+-------+---------------------------------------------------------------------------+-------------------+--------------------------------------------------------+-------------------+------------+--------------------------+\n",
      "|{AALST, BE, België, 41, 9300, BRUSSELSE STEENWEG}       |4156    |AALST (COLRUYT)               |{8, COLR_Colruyt}|{50.933074, 4.0538972}       |[CSOP_ORDERABLE, PREPAID_PARCEL]|true    |https://www.colruyt.be/nl/colruyt-openingsuren/4156|902    |[{2000, 27-03-2024, true, true, 830}, {2000, 28-03-2024, true, false, 830}]|{1, Winkel, Winkel}|https://maps.apple.com/?daddr=50.933074,4.0538972       |[QUALITY, 3RDPARTY]|AC          |[{08-04-2024, 28-04-2024}]|\n",
      "|{AALTER, BE, België, 66, 9880, LOSTRAAT}                |4218    |AALTER (COLRUYT)              |{8, COLR_Colruyt}|{51.0784761, 3.4500133}      |[CSOP_ORDERABLE, PREPAID_PARCEL]|true    |https://www.colruyt.be/nl/colruyt-openingsuren/4218|946    |[{2000, 27-03-2024, true, true, 830}, {2000, 28-03-2024, true, false, 830}]|{1, Winkel, Winkel}|https://maps.apple.com/?daddr=51.0784761,3.4500133      |[QUALITY, 3RDPARTY]|AC          |[]                        |\n",
      "|{AARSCHOT, BE, België, 241, 3200, LEUVENSESTEENWEG}     |4222    |AARSCHOT (COLRUYT)            |{8, COLR_Colruyt}|{50.9760369, 4.8110969}      |[CSOP_ORDERABLE, PREPAID_PARCEL]|true    |https://www.colruyt.be/nl/colruyt-openingsuren/4222|950    |[{2000, 27-03-2024, true, true, 830}, {2000, 28-03-2024, true, false, 830}]|{1, Winkel, Winkel}|https://maps.apple.com/?daddr=50.9760369,4.8110969      |[QUALITY, 3RDPARTY]|AC          |[]                        |\n",
      "|{ALSEMBERG, BE, België, 19, 1652, BRUSSELSESTEENWEG}    |4138    |ALSEMBERG (COLRUYT)           |{8, COLR_Colruyt}|{50.7415212, 4.336719}       |[CSOP_ORDERABLE, PREPAID_PARCEL]|true    |https://www.colruyt.be/nl/colruyt-openingsuren/4138|886    |[{2000, 27-03-2024, true, true, 830}, {2000, 28-03-2024, true, false, 830}]|{1, Winkel, Winkel}|https://maps.apple.com/?daddr=50.7415212,4.336719       |[QUALITY, 3RDPARTY]|AC          |[]                        |\n",
      "|{AMAY, BE, België, 247, 4540, CHAUSSEE DE TONGRES}      |3853    |AMAY (COLRUYT)                |{8, COLR_Colruyt}|{50.5599284, 5.3061951}      |[CSOP_ORDERABLE, PREPAID_PARCEL]|true    |https://www.colruyt.be/nl/colruyt-openingsuren/3853|783    |[{2000, 27-03-2024, true, true, 830}, {2000, 28-03-2024, true, false, 830}]|{1, Winkel, Winkel}|https://maps.apple.com/?daddr=50.5599284,5.3061951      |[QUALITY, 3RDPARTY]|AC          |[]                        |\n",
      "|{ANDENNE, BE, België, 4, 5300, RUE DE LA PAPETERIE}     |3596    |ANDENNE (COLRUYT)             |{8, COLR_Colruyt}|{50.4917055, 5.0930033}      |[CSOP_ORDERABLE, PREPAID_PARCEL]|true    |https://www.colruyt.be/nl/colruyt-openingsuren/3596|650    |[{2000, 27-03-2024, true, true, 830}, {2000, 28-03-2024, true, false, 830}]|{1, Winkel, Winkel}|https://maps.apple.com/?daddr=50.4917055,5.0930033      |[QUALITY, 3RDPARTY]|AC          |[]                        |\n",
      "|{ANDERLECHT, BE, België, 824, 1070, BERGENSESTEENWEG}   |3759    |ANDERLECHT (VEEWEYDE) COLRUYT |{8, COLR_Colruyt}|{50.8275378372, 4.3025743961}|[CSOP_ORDERABLE, PREPAID_PARCEL]|true    |https://www.colruyt.be/nl/colruyt-openingsuren/3759|744    |[{2000, 27-03-2024, true, true, 830}, {2000, 28-03-2024, true, false, 830}]|{1, Winkel, Winkel}|https://maps.apple.com/?daddr=50.8275378372,4.3025743961|[QUALITY, 3RDPARTY]|AC          |[]                        |\n",
      "|{ANDERLECHT, BE, België, 57, 1070, MAURICE HERBETTELAAN}|3620    |ANDERLECHT (HERBETTELN) COLR  |{8, COLR_Colruyt}|{50.8439965, 4.3099483}      |[CSOP_ORDERABLE, PREPAID_PARCEL]|true    |https://www.colruyt.be/nl/colruyt-openingsuren/3620|669    |[{2000, 27-03-2024, true, true, 830}, {2000, 28-03-2024, true, false, 830}]|{1, Winkel, Winkel}|https://maps.apple.com/?daddr=50.8439965,4.3099483      |[QUALITY, 3RDPARTY]|AC          |[]                        |\n",
      "|{ANDERLUES, BE, België, 4, 6150, RUE DE LA STATION}     |3074    |ANDERLUES (COLRUYT)           |{8, COLR_Colruyt}|{50.401257, 4.2797751}       |[CSOP_ORDERABLE]                |false   |https://www.colruyt.be/nl/colruyt-openingsuren/3074|448    |[]                                                                         |{1, Winkel, Winkel}|https://maps.apple.com/?daddr=50.401257,4.2797751       |[QUALITY]          |IN          |[{25-03-2024, 28-04-2024}]|\n",
      "|{ANS, BE, België, 88, 4430, RUE DES FRANCAIS}           |3644    |ANS (COLRUYT)                 |{8, COLR_Colruyt}|{50.6588119, 5.5324966}      |[CSOP_ORDERABLE, PREPAID_PARCEL]|true    |https://www.colruyt.be/nl/colruyt-openingsuren/3644|681    |[{2000, 27-03-2024, true, true, 830}, {2000, 28-03-2024, true, false, 830}]|{1, Winkel, Winkel}|https://maps.apple.com/?daddr=50.6588119,5.5324966      |[QUALITY, 3RDPARTY]|AC          |[]                        |\n",
      "|{ANTOING, BE, België, 14, 7640, AVENUE DE L'EUROPE}     |4128    |ANTOING (COLRUYT)             |{8, COLR_Colruyt}|{50.5656778, 3.4521636}      |[CSOP_ORDERABLE, PREPAID_PARCEL]|true    |https://www.colruyt.be/nl/colruyt-openingsuren/4128|880    |[{2000, 27-03-2024, true, true, 830}, {2000, 28-03-2024, true, false, 830}]|{1, Winkel, Winkel}|https://maps.apple.com/?daddr=50.5656778,3.4521636      |[QUALITY, 3RDPARTY]|AC          |[]                        |\n",
      "|{ANTWERPEN 1, BE, België, 35A, 2018, LANGE ELZENSTRAAT} |3573    |CADI ANTWERPEN LANGELZENSTR   |{8, COLR_Colruyt}|{51.2011247, 4.395306}       |[PREPAID_PARCEL, CSOP_ORDERABLE]|true    |https://www.colruyt.be/nl/colruyt-openingsuren/3573|636    |[{2000, 27-03-2024, true, true, 830}, {2000, 28-03-2024, true, false, 830}]|{1, Winkel, Winkel}|https://maps.apple.com/?daddr=51.2011247,4.395306       |[QUALITY, 3RDPARTY]|AC          |[]                        |\n",
      "|{ANTWERPEN 1, BE, België, 15, 2000, GENTPLAATS}         |7477    |ANTWERPEN GENTPLAATS (COLRUYT)|{8, COLR_Colruyt}|{51.2060004, 4.3872453}      |[CSOP_ORDERABLE, PREPAID_PARCEL]|true    |https://www.colruyt.be/nl/colruyt-openingsuren/7477|2781   |[{2000, 27-03-2024, true, true, 830}, {2000, 28-03-2024, true, false, 830}]|{1, Winkel, Winkel}|https://maps.apple.com/?daddr=51.2060004,4.3872453      |[QUALITY, 3RDPARTY]|AC          |[]                        |\n",
      "|{ANTWERPEN 5, BE, België, 357, 2050, BLANCEFLOERLAAN}   |7190    |LINKEROEVER (COLRUYT)         |{8, COLR_Colruyt}|{51.2198341, 4.363296}       |[CSOP_ORDERABLE, PREPAID_PARCEL]|true    |https://www.colruyt.be/nl/colruyt-openingsuren/7190|2643   |[{2000, 27-03-2024, true, true, 830}, {2000, 28-03-2024, true, false, 830}]|{1, Winkel, Winkel}|https://maps.apple.com/?daddr=51.2198341,4.363296       |[QUALITY, 3RDPARTY]|AC          |[]                        |\n",
      "|{ARLON, BE, België, 15, 6700, RUE DE L'HYDRION}         |3266    |ARLON (COLRUYT)               |{8, COLR_Colruyt}|{49.6832331, 5.799413}       |[CSOP_ORDERABLE, PREPAID_PARCEL]|true    |https://www.colruyt.be/nl/colruyt-openingsuren/3266|538    |[{2000, 27-03-2024, true, true, 830}, {2000, 28-03-2024, true, false, 830}]|{1, Winkel, Winkel}|https://maps.apple.com/?daddr=49.6832331,5.799413       |[QUALITY, 3RDPARTY]|AC          |[]                        |\n",
      "|{ASSE, BE, België, 49A, 1730, NERVIERSSTRAAT}           |3083    |ASSE (COLRUYT)                |{8, COLR_Colruyt}|{50.9165932, 4.189811}       |[PREPAID_PARCEL, CSOP_ORDERABLE]|true    |https://www.colruyt.be/nl/colruyt-openingsuren/3083|454    |[{2000, 27-03-2024, true, true, 830}, {2000, 28-03-2024, true, false, 830}]|{1, Winkel, Winkel}|https://maps.apple.com/?daddr=50.9165932,4.189811       |[QUALITY, 3RDPARTY]|AC          |[]                        |\n",
      "|{ASSEBROEK, BE, België, 124, 8310, NIJVERHEIDSSTRAAT}   |4050    |ASSEBROEK (COLRUYT)           |{8, COLR_Colruyt}|{51.207433, 3.241102}        |[CSOP_ORDERABLE, PREPAID_PARCEL]|true    |https://www.colruyt.be/nl/colruyt-openingsuren/4050|833    |[{2000, 27-03-2024, true, true, 830}, {2000, 28-03-2024, true, false, 830}]|{1, Winkel, Winkel}|https://maps.apple.com/?daddr=51.207433,3.241102        |[QUALITY, 3RDPARTY]|AC          |[]                        |\n",
      "|{ATH, BE, België, 116, 7800, CHAUSSEE DE BRUXELLES}     |3547    |ATH (COLRUYT)                 |{8, COLR_Colruyt}|{50.633502, 3.7882782}       |[CSOP_ORDERABLE, PREPAID_PARCEL]|true    |https://www.colruyt.be/nl/colruyt-openingsuren/3547|621    |[{2000, 27-03-2024, true, true, 830}, {2000, 28-03-2024, true, false, 830}]|{1, Winkel, Winkel}|https://maps.apple.com/?daddr=50.633502,3.7882782       |[QUALITY, 3RDPARTY]|AC          |[]                        |\n",
      "|{AVELGEM, BE, België, 272, 8580, DOORNIKSESTEENWEG}     |3582    |AVELGEM (COLRUYT)             |{8, COLR_Colruyt}|{50.764426, 3.439359}        |[CSOP_ORDERABLE, PREPAID_PARCEL]|true    |https://www.colruyt.be/nl/colruyt-openingsuren/3582|640    |[{2000, 27-03-2024, true, true, 830}, {2000, 28-03-2024, true, false, 830}]|{1, Winkel, Winkel}|https://maps.apple.com/?daddr=50.764426,3.439359        |[QUALITY, 3RDPARTY]|AC          |[]                        |\n",
      "|{AVERBODE, BE, België, 8, 3271, MELKERIJSTRAAT}         |4263    |AVERBODE (COLRUYT)            |{8, COLR_Colruyt}|{51.026757, 4.9826536}       |[CSOP_ORDERABLE, PREPAID_PARCEL]|true    |https://www.colruyt.be/nl/colruyt-openingsuren/4263|974    |[{2000, 27-03-2024, true, true, 830}, {2000, 28-03-2024, true, false, 830}]|{1, Winkel, Winkel}|https://maps.apple.com/?daddr=51.026757,4.9826536       |[QUALITY, 3RDPARTY]|AC          |[]                        |\n",
      "+--------------------------------------------------------+--------+------------------------------+-----------------+-----------------------------+--------------------------------+--------+---------------------------------------------------+-------+---------------------------------------------------------------------------+-------------------+--------------------------------------------------------+-------------------+------------+--------------------------+\n",
      "only showing top 20 rows\n",
      "\n"
     ]
    }
   ],
   "source": [
    "clp.show(truncate=False)"
   ]
  },
  {
   "cell_type": "code",
   "execution_count": 14,
   "id": "b2a5c252-92c3-4e29-af98-d4e850b8eb2c",
   "metadata": {},
   "outputs": [
    {
     "name": "stdout",
     "output_type": "stream",
     "text": [
      "root\n",
      " |-- address: struct (nullable = true)\n",
      " |    |-- cityName: string (nullable = true)\n",
      " |    |-- countryCode: string (nullable = true)\n",
      " |    |-- countryName: string (nullable = true)\n",
      " |    |-- houseNumber: string (nullable = true)\n",
      " |    |-- postalcode: string (nullable = true)\n",
      " |    |-- streetName: string (nullable = true)\n",
      " |-- branchId: string (nullable = true)\n",
      " |-- commercialName: string (nullable = true)\n",
      " |-- ensign: struct (nullable = true)\n",
      " |    |-- id: long (nullable = true)\n",
      " |    |-- name: string (nullable = true)\n",
      " |-- geoCoordinates: struct (nullable = true)\n",
      " |    |-- latitude: double (nullable = true)\n",
      " |    |-- longitude: double (nullable = true)\n",
      " |-- handoverServices: array (nullable = true)\n",
      " |    |-- element: string (containsNull = true)\n",
      " |-- isActive: boolean (nullable = true)\n",
      " |-- moreInfoUrl: string (nullable = true)\n",
      " |-- placeId: long (nullable = true)\n",
      " |-- placeSearchOpeningHours: array (nullable = true)\n",
      " |    |-- element: struct (containsNull = true)\n",
      " |    |    |-- closes: long (nullable = true)\n",
      " |    |    |-- date: string (nullable = true)\n",
      " |    |    |-- isOpenForTheDay: boolean (nullable = true)\n",
      " |    |    |-- isToday: boolean (nullable = true)\n",
      " |    |    |-- opens: long (nullable = true)\n",
      " |-- placeType: struct (nullable = true)\n",
      " |    |-- id: long (nullable = true)\n",
      " |    |-- longName: string (nullable = true)\n",
      " |    |-- placeTypeDescription: string (nullable = true)\n",
      " |-- routeUrl: string (nullable = true)\n",
      " |-- sellingPartners: array (nullable = true)\n",
      " |    |-- element: string (containsNull = true)\n",
      " |-- sourceStatus: string (nullable = true)\n",
      " |-- temporaryClosures: array (nullable = true)\n",
      " |    |-- element: struct (containsNull = true)\n",
      " |    |    |-- from: string (nullable = true)\n",
      " |    |    |-- till: string (nullable = true)\n",
      "\n"
     ]
    }
   ],
   "source": [
    "clp.printSchema()"
   ]
  },
  {
   "cell_type": "code",
   "execution_count": null,
   "id": "842e8e07-f24f-43d5-8667-17dcdf1a2030",
   "metadata": {},
   "outputs": [],
   "source": []
  }
 ],
 "metadata": {
  "kernelspec": {
   "display_name": "pyspark_fmcg",
   "language": "python",
   "name": "pyspark_fmcg"
  },
  "language_info": {
   "codemirror_mode": {
    "name": "ipython",
    "version": 3
   },
   "file_extension": ".py",
   "mimetype": "text/x-python",
   "name": "python",
   "nbconvert_exporter": "python",
   "pygments_lexer": "ipython3",
   "version": "3.11.7"
  }
 },
 "nbformat": 4,
 "nbformat_minor": 5
}
