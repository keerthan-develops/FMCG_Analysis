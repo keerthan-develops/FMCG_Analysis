{
 "cells": [
  {
   "cell_type": "code",
   "execution_count": null,
   "id": "b803d787-ce5b-4c71-aeab-5843b5cd7551",
   "metadata": {},
   "outputs": [],
   "source": [
    "from pathlib import Path\n",
    "from pyspark.sql import SparkSession\n",
    "from pyspark.sql.functions import from_json, to_json, col, udf, explode, lit, coalesce\n",
    "from pyspark.sql.types import StructType, StructField, StringType, IntegerType\n",
    "import json"
   ]
  },
  {
   "cell_type": "code",
   "execution_count": null,
   "id": "3e5d553d-f19c-420b-af43-7a0421218053",
   "metadata": {},
   "outputs": [],
   "source": [
    "spark = SparkSession.builder.appName('json_test').master('local').getOrCreate()\n",
    "sc = spark.sparkContext"
   ]
  },
  {
   "cell_type": "code",
   "execution_count": null,
   "id": "a96e75fa-14cb-4e20-bd57-b3c84109d002",
   "metadata": {},
   "outputs": [],
   "source": [
    "pwd = Path().resolve()\n",
    "pwd\n",
    "repo_dir = str(pwd).replace('/src', '')\n",
    "repo_dir = Path(repo_dir).resolve()\n",
    "# logger.info(type(repo_dir))\n",
    "# logger.info(repo_dir)\n",
    "data_dir = Path(repo_dir) / 'data'\n",
    "# logger.info(data_dir)\n",
    "clp_path = str(data_dir / 'clp-places.json')\n",
    "# logger.info(Path(clp_path).is_file())\n",
    "cogo_path = str(data_dir / 'cogo-colpnts.json')\n",
    "# logger.info(Path(cogo_path).is_file())\n",
    "dats_path = str(data_dir / 'dats-places.json')\n",
    "# logger.info(Path(dats_path).is_file())\n",
    "okay_path = str(data_dir / 'okay-places.json')\n",
    "# logger.info(Path(okay_path).is_file())\n",
    "spar_path = str(data_dir / 'spar-places.json')\n",
    "# logger.info(Path(spar_path).is_file())\n",
    "log_path = Path(repo_dir) / 'logs'\n",
    "#log_path.is_dir()"
   ]
  },
  {
   "cell_type": "code",
   "execution_count": null,
   "id": "eaf47b9a",
   "metadata": {},
   "outputs": [],
   "source": [
    "import logging\n",
    "logger = logging.getLogger(__name__)\n",
    "\n",
    "# Set the log level\n",
    "logging.basicConfig(level='INFO')\n",
    "\n",
    "# Set the format\n",
    "#logging.Formatter(fmt=None, datefmt=None, style='%', validate=True, *, defaults=None)\n",
    "# d = {'clientip': '192.168.0.1', 'user': 'keerthan'}\n",
    "#logger.warning('Protocol problem: %s', 'connection reset', extra=d)\n",
    "\n",
    "formatter = logging.Formatter('%(asctime)s - %(name)s - %(levelname)s - %(message)s')\n",
    "\n",
    "# Set the log file name\n",
    "log_file = str(Path(log_path) / 'assignment2.log')\n",
    "\n",
    "# Create the handler\n",
    "handler = logging.FileHandler(filename=log_file, mode='w')\n",
    "\n",
    "# set the formatter to the handler created\n",
    "handler.setFormatter(formatter)\n",
    "\n",
    "# Add the handler to the logger\n",
    "logger.addHandler(handler)\n",
    "\n",
    "logger.info('Log test')\n"
   ]
  },
  {
   "cell_type": "code",
   "execution_count": null,
   "id": "3aee44df-fa2d-4fd5-be7c-8aa4fef042aa",
   "metadata": {},
   "outputs": [],
   "source": [
    "# Read json files\n",
    "clp_df = spark.read.options(Header=True).json(clp_path)\n",
    "cogo_df = spark.read.options(Header=True).json(cogo_path)\n",
    "dats_df = spark.read.options(Header=True).json(dats_path)\n",
    "okay_df = spark.read.options(Header=True).json(okay_path)\n",
    "spar_df = spark.read.options(Header=True).json(spar_path)"
   ]
  },
  {
   "cell_type": "code",
   "execution_count": null,
   "id": "42338043-ab6c-423d-a389-8da169fcbf4e",
   "metadata": {},
   "outputs": [],
   "source": [
    "clp_df.count()\n",
    "#clp_df.logger.infoSchema()\n",
    "#okay_df.show(1, 0)"
   ]
  },
  {
   "cell_type": "code",
   "execution_count": null,
   "id": "915ce7aa-3685-4d55-be1a-00d30edbf609",
   "metadata": {},
   "outputs": [],
   "source": [
    "cogo_df.count()\n",
    "#cogo_df.logger.infoSchema()\n",
    "#cogo_df.show(2, 0)"
   ]
  },
  {
   "cell_type": "code",
   "execution_count": null,
   "id": "5e60c32c-84fe-40ad-91b5-4ed3c6b5e3fd",
   "metadata": {},
   "outputs": [],
   "source": [
    "dats_df.count()\n",
    "#dats_df.logger.infoSchema()\n",
    "# okay_df.show(2, 0)"
   ]
  },
  {
   "cell_type": "code",
   "execution_count": null,
   "id": "cb956e25-1c23-4195-860a-e3489f98c889",
   "metadata": {},
   "outputs": [],
   "source": [
    "okay_df.count()\n",
    "#okay_df.logger.infoSchema()\n",
    "# okay_df.show(2, 0)"
   ]
  },
  {
   "cell_type": "code",
   "execution_count": null,
   "id": "64be6d55-16cc-4502-887a-8e646f59ff9f",
   "metadata": {},
   "outputs": [],
   "source": [
    "spar_df.count()\n",
    "#spar_df.logger.infoSchema()\n"
   ]
  },
  {
   "cell_type": "code",
   "execution_count": null,
   "id": "d88b6630",
   "metadata": {},
   "outputs": [],
   "source": [
    "temporaryClosures_schema = StructType([\n",
    "    StructField('from', StringType()),\n",
    "    StructField('till', StringType())\n",
    "])"
   ]
  },
  {
   "cell_type": "code",
   "execution_count": null,
   "id": "52f84780",
   "metadata": {},
   "outputs": [],
   "source": [
    "clp_tmp_exists = clp_df.filter(\"cast(temporaryClosures as string) != '[]'\")\n",
    "clp_tmp_not_exists = clp_df.filter(\"cast(temporaryClosures as string) = '[]'\")\n",
    "logger.info(clp_tmp_exists.count())\n",
    "logger.info(clp_tmp_not_exists.count())"
   ]
  },
  {
   "cell_type": "code",
   "execution_count": null,
   "id": "e8b46056-8f1f-4fc5-af73-458249c061cf",
   "metadata": {},
   "outputs": [],
   "source": [
    "# exploding temporaryClosures column for clp which has value\n",
    "# clp_tmp_clos_df = clp_df.withColumn('temporaryClosures_exp', explode(col('temporaryClosures')))\n",
    "clp_tmp_exists_exp = clp_tmp_exists.withColumn('temporaryClosures', explode(col('temporaryClosures')))\n",
    "logger.info(clp_tmp_exists_exp.count())\n",
    "\n",
    "clp_tmp_exists_exp = clp_tmp_exists_exp.withColumn('temporaryClosure_from', col('temporaryClosures.from')) \\\n",
    ".withColumn('temporaryClosure_till', col('temporaryClosures.till')) \\\n",
    ".drop('temporaryClosures')\n",
    "\n",
    "clp_tmp_not_exists = clp_tmp_not_exists.withColumn('temporaryClosure_from', lit('')) \\\n",
    ".withColumn('temporaryClosure_till', lit('')) \\\n",
    "    .drop('temporaryClosures')\n",
    "#clp_tmp_exists_exp.logger.infoSchema()\n",
    "#clp_tmp_not_exists.logger.infoSchema()"
   ]
  },
  {
   "cell_type": "code",
   "execution_count": null,
   "metadata": {},
   "outputs": [],
   "source": [
    "# Union exists and not exists clp datasets\n",
    "clp_union_df = clp_tmp_exists_exp.union(clp_tmp_not_exists)\n",
    "clp_union_df.count()\n",
    "#clp_union_df.logger.infoSchema()\n",
    "\n",
    "# exploding handoverservices\n",
    "#clp_final_df = clp_union_df.withColumn('handoverServices', explode(col('handoverServices')))\n",
    "clp_final_df = clp_union_df\n",
    "#clp_final_df.logger.infoSchema()\n",
    "logger.info(clp_final_df.count())"
   ]
  },
  {
   "cell_type": "code",
   "execution_count": null,
   "id": "d8a5c5df",
   "metadata": {},
   "outputs": [],
   "source": [
    "cogo_tmp_df = cogo_df.withColumn('temporaryClosure_from', lit('')) \\\n",
    "    .withColumn('temporaryClosure_till', lit(''))\n",
    "cogo_tmp_df.count()"
   ]
  },
  {
   "cell_type": "code",
   "execution_count": null,
   "id": "0dd1a8f8",
   "metadata": {},
   "outputs": [],
   "source": [
    "cogo_final_df = cogo_tmp_df.drop('temporaryClosures')\n",
    "cogo_final_df.count()"
   ]
  },
  {
   "cell_type": "code",
   "execution_count": null,
   "id": "7e1d35ae",
   "metadata": {},
   "outputs": [],
   "source": [
    "clp_cogo = clp_final_df.union(cogo_final_df)"
   ]
  },
  {
   "cell_type": "code",
   "execution_count": null,
   "id": "dc9953b7",
   "metadata": {},
   "outputs": [],
   "source": [
    "clp_cogo.show(2,0)\n",
    "clp_cogo.count()"
   ]
  },
  {
   "cell_type": "code",
   "execution_count": null,
   "id": "f83025c3",
   "metadata": {},
   "outputs": [],
   "source": [
    "# okay\n",
    "\n",
    "\n",
    "okay_tmp_exists = okay_df.filter(\"cast(temporaryClosures as string) != '[]'\")\n",
    "okay_tmp_not_exists = okay_df.filter(\"cast(temporaryClosures as string) = '[]'\")\n",
    "logger.info(okay_tmp_exists.count())\n",
    "logger.info(okay_tmp_not_exists.count())\n",
    "\n",
    "\n",
    "# exploding temporaryClosures column for okay which has value\n",
    "# okay_tmp_clos_df = clp_df.withColumn('temporaryClosures_exp', explode(col('temporaryClosures')))\n",
    "okay_tmp_exists_exp = okay_tmp_exists.withColumn('temporaryClosures', explode(col('temporaryClosures')))\n",
    "logger.info(okay_tmp_exists_exp.count())\n",
    "okay_tmp_exists_exp = okay_tmp_exists_exp.withColumn('temporaryClosure_from', col('temporaryClosures.from')) \\\n",
    ".withColumn('temporaryClosure_till', col('temporaryClosures.till')) \\\n",
    ".drop('temporaryClosures')\n",
    "okay_tmp_exists_exp.count()\n",
    "#okay_tmp_exists_exp.logger.infoSchema()\n",
    "#okay_tmp_not_exists.logger.infoSchema()\n",
    "\n",
    "# transforming not explode dataframe to temp column to struct from array\n",
    "okay_tmp_not_exists.count()\n",
    "okay_tmp_not_exists = okay_tmp_not_exists.drop('temporaryClosures')\\\n",
    "    .withColumn('temporaryClosure_from', lit('')) \\\n",
    "    .withColumn('temporaryClosure_till', lit(''))\n",
    "okay_tmp_not_exists.count()\n",
    "\n",
    "\n",
    "# Union exists and not exists clp datasets\n",
    "okay_union_df = okay_tmp_exists_exp.union(okay_tmp_not_exists)\n",
    "okay_union_df.count()\n",
    "#okay_union_df.logger.infoSchema()\n",
    "\n",
    "# exploding handoverservices\n",
    "#okay_final_df = okay_union_df.withColumn('handoverServices', explode(col('handoverServices')))\n",
    "okay_final_df = okay_union_df\n",
    "#okay_final_df.logger.infoSchema()\n",
    "logger.info(okay_final_df.count())"
   ]
  },
  {
   "cell_type": "code",
   "execution_count": null,
   "id": "034877dd",
   "metadata": {},
   "outputs": [],
   "source": [
    "clp_cogo_okay = clp_cogo.union(okay_final_df)\n",
    "clp_cogo_okay.count()"
   ]
  },
  {
   "cell_type": "code",
   "execution_count": null,
   "id": "0bb31081",
   "metadata": {},
   "outputs": [],
   "source": []
  }
 ],
 "metadata": {
  "kernelspec": {
   "display_name": "pyspark_fmcg",
   "language": "python",
   "name": "pyspark_fmcg"
  },
  "language_info": {
   "codemirror_mode": {
    "name": "ipython",
    "version": 3
   },
   "file_extension": ".py",
   "mimetype": "text/x-python",
   "name": "python",
   "nbconvert_exporter": "python",
   "pygments_lexer": "ipython3",
   "version": "3.11.7"
  }
 },
 "nbformat": 4,
 "nbformat_minor": 5
}
