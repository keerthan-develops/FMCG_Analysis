{
 "cells": [
  {
   "cell_type": "code",
   "execution_count": null,
   "metadata": {},
   "outputs": [],
   "source": [
    "from pathlib import Path\n",
    "import findspark\n",
    "from pyspark.sql import SparkSession\n",
    "from pyspark.sql.functions import from_json, to_json, col, udf, explode, lit, coalesce, sha2\n",
    "from pyspark.sql.types import StructType, StructField, StringType, IntegerType, ArrayType"
   ]
  },
  {
   "cell_type": "code",
   "execution_count": null,
   "metadata": {},
   "outputs": [],
   "source": [
    "spark = (\n",
    "                SparkSession\n",
    "                .builder\n",
    "                .appName(\"fmcg-data-analysis\")\n",
    "                .master(\"local\")\n",
    "                .config(\"spark.sql.repl.eagerEval.enabled\", True)\n",
    "                .getOrCreate()\n",
    "    )"
   ]
  },
  {
   "cell_type": "code",
   "execution_count": null,
   "metadata": {},
   "outputs": [],
   "source": [
    "curr_path = Path().resolve()\n",
    "pub_path = Path(str(curr_path).replace('/test', '/publish')).resolve()\n",
    "out_path = str(Path(pub_path) / 'psuedo_fmcg')\n",
    "print(out_path)"
   ]
  },
  {
   "cell_type": "code",
   "execution_count": null,
   "metadata": {},
   "outputs": [],
   "source": [
    "df = spark.read.parquet('/Users/keerthan/Projects/FMCG_Analysis/publish/fmcg_analysis')\n",
    "df.count()\n",
    "df.createOrReplaceTempView('df')\n",
    "df.printSchema()"
   ]
  },
  {
   "cell_type": "code",
   "execution_count": null,
   "metadata": {},
   "outputs": [],
   "source": [
    "psuedo_df = df.withColumn('address', col('address').withField('psuedo_houseNumber', sha2(col('address.houseNumber'), 256)))\\\n",
    "    .withColumn('address', col('address').withField('psuedo_streetName', sha2(col('address.streetName'), 256)))"
   ]
  },
  {
   "cell_type": "code",
   "execution_count": null,
   "metadata": {},
   "outputs": [],
   "source": [
    "psuedo_df.write.partitionBy('brand').mode('overwrite').parquet(out_path)"
   ]
  },
  {
   "cell_type": "code",
   "execution_count": null,
   "metadata": {},
   "outputs": [],
   "source": [
    "from cryptography.fernet import Fernet\n",
    "key = Fernet.generate_key()\n",
    "\n",
    "def generate_encrypt_key():\n",
    "    from cryptography.fernet import Fernet\n",
    "    key = Fernet.generate_key()\n",
    "    return key.decode(\"utf-8\")\n",
    "\n",
    "#spark.udf.register(\"generate_key_using_Fernet\", generate_encrypt_key)\n"
   ]
  },
  {
   "cell_type": "code",
   "execution_count": null,
   "metadata": {},
   "outputs": [],
   "source": [
    "generate_key_using_Fernet = udf(generate_encrypt_key, StringType())\n",
    "df_distinct_record = spark.sql('''select distinct placeId from df''')\n",
    "df_distinct_record.count()\n",
    "df_distinct_record = df_distinct_record.withColumn(\"encryption_key\", lit(generate_key_using_Fernet()))\n",
    "df_distinct_record.select('placeId', 'encryption_key').show(10,0)\n",
    "df_distinct_record.write.option('header', 'True').mode('overwrite').csv('/Users/keerthan/Projects/FMCG_Analysis/publish/encryption_keys')"
   ]
  },
  {
   "cell_type": "code",
   "execution_count": null,
   "metadata": {},
   "outputs": [],
   "source": [
    "# Define Encrypt User Defined Function \n",
    "def encrypt_val(clear_text,MASTER_KEY):\n",
    "    from cryptography.fernet import Fernet\n",
    "    f = Fernet(MASTER_KEY)\n",
    "    clear_text_b=bytes(clear_text, 'utf-8')\n",
    "    cipher_text = f.encrypt(clear_text_b)\n",
    "    cipher_text = str(cipher_text.decode('ascii'))\n",
    "    return cipher_text\n",
    "\n",
    "# Define decrypt user defined function \n",
    "def decrypt_val(cipher_text,MASTER_KEY):\n",
    "    from cryptography.fernet import Fernet\n",
    "    f = Fernet(MASTER_KEY)\n",
    "    clear_val=f.decrypt(cipher_text.encode()).decode()\n",
    "    return clear_val\n",
    "#spark.udf.register(\"decrypt_val\", decrypt_val)"
   ]
  },
  {
   "cell_type": "code",
   "execution_count": null,
   "metadata": {},
   "outputs": [],
   "source": [
    "encrypr_df = spark.read.option('InferSchema', 'True')\\\n",
    "    .option('header', 'True')\\\n",
    "    .csv('/Users/keerthan/Projects/FMCG_Analysis/publish/encryption_keys')\n",
    "encrypr_df.show(2,0)\n",
    "encrypr_df.createOrReplaceTempView('encryption_keys')\n",
    "encrypr_df.printSchema()"
   ]
  },
  {
   "cell_type": "code",
   "execution_count": null,
   "metadata": {},
   "outputs": [],
   "source": [
    "# Register UDF's\n",
    "encrypt = udf(encrypt_val, StringType())\n",
    "decrypt = udf(decrypt_val, StringType())\n",
    " \n",
    " \n",
    "# Encrypt the data \n",
    "place_enc_join_df = spark.sql('''select a.*, e.encryption_key \n",
    "                                    from df as a \n",
    "                                inner join encryption_keys as e \n",
    "                                on e.placeId = a.placeId''')\n",
    "encrypted = df.withColumn(\"EMAIL\", encrypt(\"EMAIL\", col(\"encryption_Key\"))).drop(\"encryption_Key\")\n",
    "\n",
    " \n",
    "#Save encrypted data \n",
    "encrypted.write.format(\"delta\").mode(\"overwrite\").option(\"overwriteSchema\", \"true\").saveAsTable(\"gdpr.raw_customer_data\")  "
   ]
  },
  {
   "cell_type": "code",
   "execution_count": null,
   "metadata": {},
   "outputs": [],
   "source": [
    "encrypt = udf(encrypt_val, StringType())\n",
    "decrypt = udf(decrypt_val, StringType())"
   ]
  },
  {
   "cell_type": "code",
   "execution_count": 45,
   "metadata": {},
   "outputs": [
    {
     "name": "stdout",
     "output_type": "stream",
     "text": [
      "+-------+-------------------------------------------------------------------------------------------------------------------------------------------------------------------------------------------------------------------------------------+\n",
      "|placeId|address                                                                                                                                                                                                                              |\n",
      "+-------+-------------------------------------------------------------------------------------------------------------------------------------------------------------------------------------------------------------------------------------+\n",
      "|3577   |{AALST, BE, België, gAAAAABmDa0n2m4e2THydZDb1pbZT2Y6gRhgMeCK9xnLoIo0Ajc3Y8rcXZIPkIZvhHWpcLfIXReb58gLr4zIRIuft-Pcv077zw==, 9300, gAAAAABmDa0n-Ax9zspOrea-JXwvEHoDSLnJpGnCzqz7tCijSP0jGqerHd7Cep6Xt6bWZw_DlVww1zvB823Wy3rwcMrjQ1ZQ_A==}|\n",
      "|3577   |{AALST, BE, België, gAAAAABmDa0nbzmvJmak6gGdVJTPyZrwP5KYfyB0qVZK4MNCikp4Iu42gjxM9wE9L8aVldn4Id2OWxPhcMWkY86TO0XLhPFW2A==, 9300, gAAAAABmDa0nUyX98gF3AAPyvvntGWkJEyXEvu0KGnIyLZ5DPrYdRMaKHnHQ03xC1rhJbJI0bzmv3LeupfwOV-FlxcDVmJYrwg==}|\n",
      "+-------+-------------------------------------------------------------------------------------------------------------------------------------------------------------------------------------------------------------------------------------+\n",
      "only showing top 2 rows\n",
      "\n"
     ]
    }
   ],
   "source": [
    "# Encrypt the data \n",
    "place_enck_join_df = spark.sql('''select a.*, e.encryption_key \n",
    "                                    from df as a \n",
    "                                inner join encryption_keys as e \n",
    "                                on e.placeId = a.placeId''')\n",
    "\n",
    "masked_df = place_enck_join_df.withColumn('address', col('address').withField('houseNumber', encrypt(\"address.houseNumber\", col(\"encryption_Key\"))))\\\n",
    "                 .withColumn('address', col('address').withField('streetName', encrypt(\"address.streetName\", col(\"encryption_Key\"))))\\\n",
    "                 .drop(\"encryption_Key\")\n",
    "\n",
    "masked_df.createOrReplaceTempView('masked_df')\n",
    "#masked_df.printSchema()\n",
    "masked_df.select('placeId', 'address').show(2,0)"
   ]
  },
  {
   "cell_type": "code",
   "execution_count": null,
   "metadata": {},
   "outputs": [],
   "source": [
    "spark.sql(\" select placeId, count(*) from df group by placeId having count(*) <= 1\").show(10,0)\n",
    "where a.placeId = 2453"
   ]
  },
  {
   "cell_type": "code",
   "execution_count": 46,
   "metadata": {},
   "outputs": [],
   "source": [
    "#Decrypt\n",
    "\n",
    "encrypted = spark.sql('''select a.*, e.encryption_key \n",
    "                                    from masked_df as a \n",
    "                                inner join encryption_keys as e \n",
    "                                on e.placeId = a.placeId\n",
    "                      ''')\n"
   ]
  },
  {
   "cell_type": "code",
   "execution_count": 48,
   "metadata": {},
   "outputs": [
    {
     "name": "stdout",
     "output_type": "stream",
     "text": [
      "+-------+-----------------------------------------------+\n",
      "|placeId|address                                        |\n",
      "+-------+-----------------------------------------------+\n",
      "|3577   |{AALST, BE, België, 369, 9300, GENTSE STEENWEG}|\n",
      "|3577   |{AALST, BE, België, 369, 9300, GENTSE STEENWEG}|\n",
      "+-------+-----------------------------------------------+\n",
      "only showing top 2 rows\n",
      "\n"
     ]
    }
   ],
   "source": [
    "unmasked_df = encrypted.withColumn('address', col('address').withField('houseNumber', decrypt(\"address.houseNumber\", col(\"encryption_Key\"))))\\\n",
    "    .withColumn('address', col('address').withField('streetName', decrypt(\"address.streetName\", col(\"encryption_Key\"))))\\\n",
    "    .drop(\"encryption_Key\")\n",
    "\n",
    "unmasked_df.select('placeId', 'address').show(2,0)\n"
   ]
  },
  {
   "cell_type": "code",
   "execution_count": null,
   "metadata": {},
   "outputs": [],
   "source": [
    "encrypted = spark.sql('''select a.*,e.encryption_key from gdpr.raw_customer_data as a \n",
    "inner join gdpr.encryption_keys as e on e.ID=a.ID''')\n",
    "\n",
    "decrypted = encrypted.withColumn(\"EMAIL\", decrypt(\"EMAIL\",(col(\"encryption_Key\")))).drop(\"encryption_Key\")\n",
    "decrypted.select(\"ID\", \"EMAIL\",\"customer_pseudo_id\" ).show(2,0)"
   ]
  }
 ],
 "metadata": {
  "kernelspec": {
   "display_name": "pyspark_fmcg",
   "language": "python",
   "name": "pyspark_fmcg"
  },
  "language_info": {
   "codemirror_mode": {
    "name": "ipython",
    "version": 3
   },
   "file_extension": ".py",
   "mimetype": "text/x-python",
   "name": "python",
   "nbconvert_exporter": "python",
   "pygments_lexer": "ipython3",
   "version": "3.11.7"
  }
 },
 "nbformat": 4,
 "nbformat_minor": 2
}
