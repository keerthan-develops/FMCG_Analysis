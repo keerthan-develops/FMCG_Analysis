{
 "cells": [
  {
   "cell_type": "code",
   "execution_count": 4,
   "metadata": {},
   "outputs": [
    {
     "name": "stdout",
     "output_type": "stream",
     "text": [
      "/Users/keerthan/Projects/FMCG_Analysis/publish/fmcg_analysis\n"
     ]
    }
   ],
   "source": [
    "from pathlib import Path\n",
    "import findspark\n",
    "from pyspark.sql import SparkSession\n",
    "from pyspark.sql.functions import from_json, to_json, col, udf, explode, lit, coalesce, sha2\n",
    "from pyspark.sql.types import StructType, StructField, StringType, IntegerType, ArrayType\n",
    "from pyspark.ml.feature import StringIndexer\n",
    "from pyspark.ml.feature import OneHotEncoder\n",
    "\n",
    "spark = (\n",
    "                SparkSession\n",
    "                .builder\n",
    "                .appName(\"fmcg-data-analysis\")\n",
    "                .master(\"local\")\n",
    "                .config(\"spark.sql.repl.eagerEval.enabled\", True)\n",
    "                .getOrCreate()\n",
    "    )\n",
    "\n",
    "curr_path = Path().resolve()\n",
    "pub_path = Path(str(curr_path).replace('/test', '/publish')).resolve()\n",
    "out_path = str(Path(pub_path) / 'fmcg_analysis')\n",
    "print(out_path)\n"
   ]
  },
  {
   "cell_type": "code",
   "execution_count": 6,
   "metadata": {},
   "outputs": [
    {
     "name": "stdout",
     "output_type": "stream",
     "text": [
      "10272\n",
      "root\n",
      " |-- address: struct (nullable = true)\n",
      " |    |-- cityName: string (nullable = true)\n",
      " |    |-- countryCode: string (nullable = true)\n",
      " |    |-- countryName: string (nullable = true)\n",
      " |    |-- houseNumber: string (nullable = true)\n",
      " |    |-- postalcode: string (nullable = true)\n",
      " |    |-- streetName: string (nullable = true)\n",
      " |-- branchId: string (nullable = true)\n",
      " |-- commercialName: string (nullable = true)\n",
      " |-- ensign: struct (nullable = true)\n",
      " |    |-- id: long (nullable = true)\n",
      " |    |-- name: string (nullable = true)\n",
      " |-- geoCoordinates: struct (nullable = true)\n",
      " |    |-- latitude: double (nullable = true)\n",
      " |    |-- longitude: double (nullable = true)\n",
      " |-- handoverServices: string (nullable = true)\n",
      " |-- isActive: boolean (nullable = true)\n",
      " |-- moreInfoUrl: string (nullable = true)\n",
      " |-- placeId: long (nullable = true)\n",
      " |-- placeType: struct (nullable = true)\n",
      " |    |-- id: long (nullable = true)\n",
      " |    |-- longName: string (nullable = true)\n",
      " |    |-- placeTypeDescription: string (nullable = true)\n",
      " |-- routeUrl: string (nullable = true)\n",
      " |-- sellingPartners: string (nullable = true)\n",
      " |-- sourceStatus: string (nullable = true)\n",
      " |-- temporaryClosures_from: string (nullable = true)\n",
      " |-- temporaryClosures_till: string (nullable = true)\n",
      " |-- placeSearchOpeningHours_date: string (nullable = true)\n",
      " |-- placeSearchOpeningHours_opens: string (nullable = true)\n",
      " |-- placeSearchOpeningHours_closes: string (nullable = true)\n",
      " |-- postalcode: string (nullable = true)\n",
      " |-- province: string (nullable = true)\n",
      " |-- latitude: double (nullable = true)\n",
      " |-- longitude: double (nullable = true)\n",
      " |-- handoverServices_numeric: string (nullable = true)\n",
      " |-- handoverServices_onehot: string (nullable = true)\n",
      " |-- brand: string (nullable = true)\n",
      "\n"
     ]
    }
   ],
   "source": [
    "\n",
    "df = spark.read.parquet(out_path)\n",
    "print(df.count())\n",
    "df.createOrReplaceTempView('df')\n",
    "df.printSchema()"
   ]
  },
  {
   "cell_type": "code",
   "execution_count": 3,
   "metadata": {},
   "outputs": [
    {
     "name": "stdout",
     "output_type": "stream",
     "text": [
      "+-------------------------------------------------------------------------------------------------------------------------------------------------------------------------------------------------------------------------------------------------------------------+--------+------------------------------+-----------------+-----------------------+----------------+--------+---------------------------------------------------+-------+-------------------+--------------------------------------------------+---------------+------------+----------------------+----------------------+----------------------------+-----------------------------+------------------------------+----------+---------------+----------+---------+------------------------+-----------------------+-----+\n",
      "|address                                                                                                                                                                                                                                                            |branchId|commercialName                |ensign           |geoCoordinates         |handoverServices|isActive|moreInfoUrl                                        |placeId|placeType          |routeUrl                                          |sellingPartners|sourceStatus|temporaryClosures_from|temporaryClosures_till|placeSearchOpeningHours_date|placeSearchOpeningHours_opens|placeSearchOpeningHours_closes|postalcode|province       |latitude  |longitude|handoverServices_numeric|handoverServices_onehot|brand|\n",
      "+-------------------------------------------------------------------------------------------------------------------------------------------------------------------------------------------------------------------------------------------------------------------+--------+------------------------------+-----------------+-----------------------+----------------+--------+---------------------------------------------------+-------+-------------------+--------------------------------------------------+---------------+------------+----------------------+----------------------+----------------------------+-----------------------------+------------------------------+----------+---------------+----------+---------+------------------------+-----------------------+-----+\n",
      "|{DOTTENIJS, BE, België, gAAAAABmDk-63PxcpxU-QdMaIkgBpIegfNphpVGRWNb9nvxZr51Ed5Fa-pb34K6O6j0g9Lp3VJt1jLqOUe5vqjkV6p5GNST7jg==, 7711, gAAAAABmDk-6Cs0k7_rm8HQmVKVzD10HlTvgo3-Eu_KgxdQ8tLwjYzQ9hXYDCYkStDNDqJMDNrGLms4NBszwXl8bkdYX8i9AjoEuz3614z1ioa_U6pxNKQg=}      |4119    |DOTTENIJS (COLRUYT)           |{8, COLR_Colruyt}|{50.72811, 3.30491}    |CSOP_ORDERABLE  |true    |https://www.colruyt.be/nl/colruyt-openingsuren/4119|871    |{1, Winkel, Winkel}|https://maps.apple.com/?daddr=50.72811,3.30491    |QUALITY        |AC          |                      |                      |27-03-2024                  |830                          |2000                          |7711      |Henegouwen     |50.72811  |3.30491  |0.0                     |(5,[0],[1.0])          |CLP  |\n",
      "|{WATERLOO, BE, België, gAAAAABmDk-6nCcRnoVgJviWukEYbkwWjSEgFYZxFJgeDjIHPVkpj6vzoC0kcmawq0GPhqXyxwtPzC7MVUdP-wB5ZhJek89HgQ==, 1410, gAAAAABmDk-6nUOoUvcd4mduZVMFgRBbxUenGNcDvl-GJEDEMykBIQMjAP78yQ8AFSEPqOFqx-Qn_V0pMByGPeI5ruHl6O0b83OO8e_fXM8g-p5iu35v5sU=}       |3144    |WATERLOO (COLRUYT)            |{8, COLR_Colruyt}|{50.6940329, 4.4037911}|PREPAID_PARCEL  |true    |https://www.colruyt.be/nl/colruyt-openingsuren/3144|497    |{1, Winkel, Winkel}|https://maps.apple.com/?daddr=50.6940329,4.4037911|QUALITY        |AC          |                      |                      |28-03-2024                  |830                          |2000                          |1410      |Waals-Brabant  |50.6940329|4.4037911|1.0                     |(5,[1],[1.0])          |CLP  |\n",
      "|{QUEVAUCAMPS, BE, België, gAAAAABmDk-6mfJI0zYOLh57vjFLFtlC7qiXuFoK1gizcpKtG_bIf4Nf-TuHScVxGFAB41y1gVuNdZRda5Z_ITmrq-knTcyMEw==, 7972, gAAAAABmDk-6MZa9cA9L_wsR284Nfau6JtzoluQQtSPjAXCeNCjhdyafivy_hoXNZyTeBHCABiGxo6OcedMP44rl8-UkDkos3g==}                        |4464    |BASECLES (COLRUYT)            |{8, COLR_Colruyt}|{50.509281, 3.6857541} |PREPAID_PARCEL  |true    |https://www.colruyt.be/nl/colruyt-openingsuren/4464|1680   |{1, Winkel, Winkel}|https://maps.apple.com/?daddr=50.509281,3.6857541 |3RDPARTY       |AC          |                      |                      |28-03-2024                  |830                          |2000                          |7972      |Henegouwen     |50.509281 |3.6857541|1.0                     |(5,[1],[1.0])          |CLP  |\n",
      "|{DILBEEK, BE, België, gAAAAABmDk-6h7Bh4YH6VE70hKqk_bdmXUf0qX6qEbwZQT1v2sWn14OIdYWuIk5I6PagVWSksuANY0_qIzv3dkoM8Psw93Tdrg==, 1700, gAAAAABmDk-6ccMwe2M36m9NIWYbX-u_YAjyizJjNApogRPg9RCp63xNf-jf2Kc3AH7VZkuVP2YlVh-6pkxnanoyfWGAboEq_blFpmiEw5XHu5I56Zf502A=}        |3084    |DILBEEK (COLRUYT)             |{8, COLR_Colruyt}|{50.8446291, 4.2725792}|CSOP_ORDERABLE  |true    |https://www.colruyt.be/nl/colruyt-openingsuren/3084|455    |{1, Winkel, Winkel}|https://maps.apple.com/?daddr=50.8446291,4.2725792|QUALITY        |AC          |                      |                      |27-03-2024                  |830                          |2000                          |1700      |Vlaams-Brabant |50.8446291|4.2725792|0.0                     |(5,[0],[1.0])          |CLP  |\n",
      "|{SINT-AMANDSBERG, BE, België, gAAAAABmDk-6kPz_1jkuaBwsh8k4k6BGlVed3IuQfd07AXhzSDeP3_65F5h0cR4a6VClKq3tOF8evqEjzAuxF-K5MVoqkrKcig==, 9040, gAAAAABmDk-6mnjrNZqtmmUfDgKVRxzhG0XncRjgrB78rrQnoP6eCyin8GWtbWLGmHoqua2LUXOMoamhmwj73idVXwnNJLAwDG3OIFrIIea5dlXvS-t-O2c=}|3815    |SINT-AMANDSBERG (COLRUYT)     |{8, COLR_Colruyt}|{51.0521888, 3.7529881}|PREPAID_PARCEL  |true    |https://www.colruyt.be/nl/colruyt-openingsuren/3815|762    |{1, Winkel, Winkel}|https://maps.apple.com/?daddr=51.0521888,3.7529881|QUALITY        |AC          |                      |                      |27-03-2024                  |830                          |2000                          |9040      |Oost-Vlaanderen|51.0521888|3.7529881|1.0                     |(5,[1],[1.0])          |CLP  |\n",
      "|{RECOGNE, BE, België, gAAAAABmDk-68qrfEvRQSz9mslhzuaEPvXSV78ehgZpYlbe3t41zCCk9619FKPhsq2Hlbq5fBzS7xKDYN34QrmzCYPRgN9ttOw==, 6800, gAAAAABmDk-6wkMG_bwhPxHnZacd1Kl1-7s5_JlS9jvmArwH2Hv79PX3v7m8eJnXNS3-M5GP0q--eEhdyRTIJMB3kJhjQztbAA==}                            |3812    |LIBRAMONT (COLRUYT)           |{8, COLR_Colruyt}|{49.9182398, 5.3610037}|PREPAID_PARCEL  |true    |https://www.colruyt.be/nl/colruyt-openingsuren/3812|759    |{1, Winkel, Winkel}|https://maps.apple.com/?daddr=49.9182398,5.3610037|3RDPARTY       |AC          |                      |                      |28-03-2024                  |830                          |2000                          |6800      |Luxemburg      |49.9182398|5.3610037|1.0                     |(5,[1],[1.0])          |CLP  |\n",
      "|{LOCHRISTI, BE, België, gAAAAABmDk-6Gogg4m2s1uj5kDI0PEi4MPERepFDY1xoXUqnIiLDAQC4W-2eLpOamTGiS3ezEfePB_1PWlRGY7dCg_Enqlwb9Q==, 9080, gAAAAABmDk-6dcjucc6l7wwDqb26I-29ZFHTgBoHzGUtLbGGjwMTR5rlJpMfYg1uNy13tuUCWNqhJ9WIFzIOoN7pH2lFNDltIkUuRAf18bAYddMy8cAK58A=}      |3180    |LOCHRISTI (COLRUYT)           |{8, COLR_Colruyt}|{51.09245, 3.815325}   |CSOP_ORDERABLE  |true    |https://www.colruyt.be/nl/colruyt-openingsuren/3180|508    |{1, Winkel, Winkel}|https://maps.apple.com/?daddr=51.09245,3.815325   |3RDPARTY       |AC          |                      |                      |28-03-2024                  |830                          |2000                          |9080      |Oost-Vlaanderen|51.09245  |3.815325 |0.0                     |(5,[0],[1.0])          |CLP  |\n",
      "|{MERKSEM, BE, België, gAAAAABmDk-6I8SQ3nNsMrwJOe9IkHHz2fbndhYz0C6cUca1UrwqB0iCcz___1w-D6XyHbLcpZv_FgwB2heX82rns5dRbzP-yw==, 2170, gAAAAABmDk-6rD2Z3xjUu8hySTJUy_-vlA_oX9rVSyl6NWN6zuGJXEEZmFgcIeTNT4Nahf9X19E5E61vPzGxVtrzBPPz7eZ8jw==}                            |3470    |MERKSEM (ROOSENSPLEIN) COLRUYT|{8, COLR_Colruyt}|{51.2491997, 4.4556283}|PREPAID_PARCEL  |true    |https://www.colruyt.be/nl/colruyt-openingsuren/3470|583    |{1, Winkel, Winkel}|https://maps.apple.com/?daddr=51.2491997,4.4556283|QUALITY        |AC          |                      |                      |27-03-2024                  |830                          |2000                          |2170      |Antwerpen      |51.2491997|4.4556283|1.0                     |(5,[1],[1.0])          |CLP  |\n",
      "|{MENEN, BE, België, gAAAAABmDk-6hYeUcO2_6PtIzjA4LdaopQOl8c34P4hKZzW0UlhO_CqShH1EUfZU8iIo3tjH3aoywIZsobxpB-HFUHSiC1EW1Q==, 8930, gAAAAABmDk-6hwopfTbmrnyhqXaiR3iSG4QjB6y1lvgZRFRz15BKh2UTRT3f2-uCFJUT75MQeKHilVH5YPUPqvQO_fNn7GNG_g==}                              |3669    |MENEN (COLRUYT)               |{8, COLR_Colruyt}|{50.7981015, 3.1139812}|PREPAID_PARCEL  |true    |https://www.colruyt.be/nl/colruyt-openingsuren/3669|698    |{1, Winkel, Winkel}|https://maps.apple.com/?daddr=50.7981015,3.1139812|3RDPARTY       |AC          |                      |                      |27-03-2024                  |830                          |2000                          |8930      |West-Vlaanderen|50.7981015|3.1139812|1.0                     |(5,[1],[1.0])          |CLP  |\n",
      "|{BEERNEM, BE, België, gAAAAABmDk-6pyz_zB382e9Nafi9MLHdGpaAD9mkgIUKjl1eORAJIlXLF8OxvG8E4D9li92_lCNtohW-qcabhbkFk0qcb3979A==, 8730, gAAAAABmDk-6fK89I9dbY0GPA2a7P40zb3E9oAjzf5q_EWM3A45593EGh3ebbNE6D2mDFzY0Cq_Z-9wICnonKNORMGaJ70re6iwvnXTUBJQwrYrsILDNI0k=}        |7085    |BEERNEM (COLRUYT)             |{8, COLR_Colruyt}|{51.1292944, 3.3218791}|CSOP_ORDERABLE  |true    |https://www.colruyt.be/nl/colruyt-openingsuren/7085|2583   |{1, Winkel, Winkel}|https://maps.apple.com/?daddr=51.1292944,3.3218791|QUALITY        |AC          |                      |                      |28-03-2024                  |830                          |2000                          |8730      |West-Vlaanderen|51.1292944|3.3218791|0.0                     |(5,[0],[1.0])          |CLP  |\n",
      "+-------------------------------------------------------------------------------------------------------------------------------------------------------------------------------------------------------------------------------------------------------------------+--------+------------------------------+-----------------+-----------------------+----------------+--------+---------------------------------------------------+-------+-------------------+--------------------------------------------------+---------------+------------+----------------------+----------------------+----------------------------+-----------------------------+------------------------------+----------+---------------+----------+---------+------------------------+-----------------------+-----+\n",
      "only showing top 10 rows\n",
      "\n"
     ]
    }
   ],
   "source": [
    "df.show(10,0)"
   ]
  },
  {
   "cell_type": "code",
   "execution_count": null,
   "metadata": {},
   "outputs": [],
   "source": []
  }
 ],
 "metadata": {
  "kernelspec": {
   "display_name": "pyspark_fmcg",
   "language": "python",
   "name": "pyspark_fmcg"
  },
  "language_info": {
   "codemirror_mode": {
    "name": "ipython",
    "version": 3
   },
   "file_extension": ".py",
   "mimetype": "text/x-python",
   "name": "python",
   "nbconvert_exporter": "python",
   "pygments_lexer": "ipython3",
   "version": "3.11.7"
  }
 },
 "nbformat": 4,
 "nbformat_minor": 2
}
