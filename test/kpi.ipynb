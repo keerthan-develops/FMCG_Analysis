{
 "cells": [
  {
   "cell_type": "code",
   "execution_count": 1,
   "metadata": {},
   "outputs": [
    {
     "name": "stderr",
     "output_type": "stream",
     "text": [
      "Setting default log level to \"WARN\".\n",
      "To adjust logging level use sc.setLogLevel(newLevel). For SparkR, use setLogLevel(newLevel).\n",
      "24/04/04 12:27:02 WARN NativeCodeLoader: Unable to load native-hadoop library for your platform... using builtin-java classes where applicable\n"
     ]
    },
    {
     "name": "stdout",
     "output_type": "stream",
     "text": [
      "/Users/keerthan/Projects/FMCG_Analysis/publish/psuedo_fmcg\n"
     ]
    }
   ],
   "source": [
    "from pathlib import Path\n",
    "import findspark\n",
    "from pyspark.sql import SparkSession\n",
    "from pyspark.sql.functions import from_json, to_json, col, udf, explode, lit, coalesce, sha2\n",
    "from pyspark.sql.types import StructType, StructField, StringType, IntegerType, ArrayType\n",
    "from pyspark.ml.feature import StringIndexer\n",
    "from pyspark.ml.feature import OneHotEncoder\n",
    "\n",
    "spark = (\n",
    "                SparkSession\n",
    "                .builder\n",
    "                .appName(\"fmcg-data-analysis\")\n",
    "                .master(\"local\")\n",
    "                .config(\"spark.sql.repl.eagerEval.enabled\", True)\n",
    "                .getOrCreate()\n",
    "    )\n",
    "\n",
    "curr_path = Path().resolve()\n",
    "pub_path = Path(str(curr_path).replace('/test', '/publish')).resolve()\n",
    "out_path = str(Path(pub_path) / 'psuedo_fmcg')\n",
    "print(out_path)\n"
   ]
  },
  {
   "cell_type": "code",
   "execution_count": 2,
   "metadata": {},
   "outputs": [
    {
     "name": "stdout",
     "output_type": "stream",
     "text": [
      "10272\n",
      "root\n",
      " |-- address: struct (nullable = true)\n",
      " |    |-- cityName: string (nullable = true)\n",
      " |    |-- countryCode: string (nullable = true)\n",
      " |    |-- countryName: string (nullable = true)\n",
      " |    |-- houseNumber: string (nullable = true)\n",
      " |    |-- postalcode: string (nullable = true)\n",
      " |    |-- streetName: string (nullable = true)\n",
      " |-- branchId: string (nullable = true)\n",
      " |-- commercialName: string (nullable = true)\n",
      " |-- ensign: struct (nullable = true)\n",
      " |    |-- id: long (nullable = true)\n",
      " |    |-- name: string (nullable = true)\n",
      " |-- geoCoordinates: struct (nullable = true)\n",
      " |    |-- latitude: double (nullable = true)\n",
      " |    |-- longitude: double (nullable = true)\n",
      " |-- handoverServices: string (nullable = true)\n",
      " |-- isActive: boolean (nullable = true)\n",
      " |-- moreInfoUrl: string (nullable = true)\n",
      " |-- placeId: long (nullable = true)\n",
      " |-- placeType: struct (nullable = true)\n",
      " |    |-- id: long (nullable = true)\n",
      " |    |-- longName: string (nullable = true)\n",
      " |    |-- placeTypeDescription: string (nullable = true)\n",
      " |-- routeUrl: string (nullable = true)\n",
      " |-- sellingPartners: string (nullable = true)\n",
      " |-- sourceStatus: string (nullable = true)\n",
      " |-- temporaryClosures_from: string (nullable = true)\n",
      " |-- temporaryClosures_till: string (nullable = true)\n",
      " |-- placeSearchOpeningHours_date: string (nullable = true)\n",
      " |-- placeSearchOpeningHours_opens: string (nullable = true)\n",
      " |-- placeSearchOpeningHours_closes: string (nullable = true)\n",
      " |-- postalcode: string (nullable = true)\n",
      " |-- province: string (nullable = true)\n",
      " |-- latitude: double (nullable = true)\n",
      " |-- longitude: double (nullable = true)\n",
      " |-- handoverServices_numeric: string (nullable = true)\n",
      " |-- handoverServices_onehot: string (nullable = true)\n",
      " |-- brand: string (nullable = true)\n",
      "\n"
     ]
    }
   ],
   "source": [
    "\n",
    "df = spark.read.parquet('/Users/keerthan/Projects/FMCG_Analysis/publish/fmcg_analysis')\n",
    "print(df.count())\n",
    "df.createOrReplaceTempView('df')\n",
    "df.printSchema()"
   ]
  },
  {
   "cell_type": "code",
   "execution_count": 3,
   "metadata": {},
   "outputs": [
    {
     "name": "stdout",
     "output_type": "stream",
     "text": [
      "+------------------------+-----------------------+\n",
      "|handoverServices_numeric|handoverServices_onehot|\n",
      "+------------------------+-----------------------+\n",
      "|0.0                     |(5,[0],[1.0])          |\n",
      "|1.0                     |(5,[1],[1.0])          |\n",
      "+------------------------+-----------------------+\n",
      "only showing top 2 rows\n",
      "\n"
     ]
    }
   ],
   "source": [
    "df.select('handoverServices_numeric', 'handoverServices_onehot').show(2,0)"
   ]
  },
  {
   "cell_type": "code",
   "execution_count": null,
   "metadata": {},
   "outputs": [],
   "source": []
  }
 ],
 "metadata": {
  "kernelspec": {
   "display_name": "pyspark_fmcg",
   "language": "python",
   "name": "pyspark_fmcg"
  },
  "language_info": {
   "codemirror_mode": {
    "name": "ipython",
    "version": 3
   },
   "file_extension": ".py",
   "mimetype": "text/x-python",
   "name": "python",
   "nbconvert_exporter": "python",
   "pygments_lexer": "ipython3",
   "version": "3.11.7"
  }
 },
 "nbformat": 4,
 "nbformat_minor": 2
}
